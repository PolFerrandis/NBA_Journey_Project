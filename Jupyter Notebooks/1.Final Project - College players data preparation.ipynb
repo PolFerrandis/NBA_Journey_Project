{
 "cells": [
  {
   "cell_type": "markdown",
   "id": "6ab44097",
   "metadata": {},
   "source": [
    "# College players data collection and preparation"
   ]
  },
  {
   "cell_type": "markdown",
   "id": "54977481",
   "metadata": {},
   "source": [
    "## Importing necessary dictionaries"
   ]
  },
  {
   "cell_type": "code",
   "execution_count": 1,
   "id": "10230ebf",
   "metadata": {},
   "outputs": [],
   "source": [
    "import pandas as pd \n",
    "import numpy as np \n",
    "import matplotlib.pyplot as plt \n",
    "import seaborn as sns\n"
   ]
  },
  {
   "cell_type": "markdown",
   "id": "834ae7f5",
   "metadata": {},
   "source": [
    "## Importing college players data to notebook"
   ]
  },
  {
   "cell_type": "code",
   "execution_count": 2,
   "id": "9cb5dd18",
   "metadata": {},
   "outputs": [],
   "source": [
    "#creating dataframe from the json file\n",
    "df = pd.read_json('http://barttorvik.com/getadvstats.php?year=all&specialSource=0&conyes=0&start=-11101&end=all0501&top=0&xvalue=career&page=playerstat.json')\n"
   ]
  },
  {
   "cell_type": "markdown",
   "id": "928218d4",
   "metadata": {},
   "source": [
    "## DF review"
   ]
  },
  {
   "cell_type": "code",
   "execution_count": 3,
   "id": "24e119cb",
   "metadata": {},
   "outputs": [
    {
     "data": {
      "text/plain": [
       "(70325, 66)"
      ]
     },
     "execution_count": 3,
     "metadata": {},
     "output_type": "execute_result"
    }
   ],
   "source": [
    "df.shape"
   ]
  },
  {
   "cell_type": "code",
   "execution_count": 4,
   "id": "d22d1a0a",
   "metadata": {
    "scrolled": true
   },
   "outputs": [
    {
     "name": "stdout",
     "output_type": "stream",
     "text": [
      "<class 'pandas.core.frame.DataFrame'>\n",
      "RangeIndex: 70325 entries, 0 to 70324\n",
      "Data columns (total 66 columns):\n",
      " #   Column  Non-Null Count  Dtype  \n",
      "---  ------  --------------  -----  \n",
      " 0   0       70325 non-null  object \n",
      " 1   1       70325 non-null  object \n",
      " 2   2       70325 non-null  object \n",
      " 3   3       70325 non-null  int64  \n",
      " 4   4       70325 non-null  float64\n",
      " 5   5       70325 non-null  float64\n",
      " 6   6       70325 non-null  float64\n",
      " 7   7       70325 non-null  float64\n",
      " 8   8       70325 non-null  float64\n",
      " 9   9       70325 non-null  float64\n",
      " 10  10      70325 non-null  float64\n",
      " 11  11      70325 non-null  float64\n",
      " 12  12      70325 non-null  float64\n",
      " 13  13      70325 non-null  int64  \n",
      " 14  14      70325 non-null  int64  \n",
      " 15  15      70325 non-null  float64\n",
      " 16  16      70325 non-null  int64  \n",
      " 17  17      70325 non-null  int64  \n",
      " 18  18      70325 non-null  float64\n",
      " 19  19      70325 non-null  int64  \n",
      " 20  20      70325 non-null  int64  \n",
      " 21  21      70325 non-null  float64\n",
      " 22  22      70325 non-null  float64\n",
      " 23  23      70325 non-null  float64\n",
      " 24  24      70325 non-null  float64\n",
      " 25  25      70280 non-null  object \n",
      " 26  26      70225 non-null  object \n",
      " 27  27      60976 non-null  object \n",
      " 28  28      70325 non-null  float64\n",
      " 29  29      70325 non-null  float64\n",
      " 30  30      70325 non-null  float64\n",
      " 31  31      70325 non-null  int64  \n",
      " 32  32      70325 non-null  int64  \n",
      " 33  33      70325 non-null  object \n",
      " 34  34      21319 non-null  float64\n",
      " 35  35      64798 non-null  float64\n",
      " 36  36      59162 non-null  float64\n",
      " 37  37      59162 non-null  float64\n",
      " 38  38      59162 non-null  float64\n",
      " 39  39      59162 non-null  float64\n",
      " 40  40      54939 non-null  float64\n",
      " 41  41      54536 non-null  float64\n",
      " 42  42      59162 non-null  float64\n",
      " 43  43      59162 non-null  float64\n",
      " 44  44      29367 non-null  float64\n",
      " 45  45      1576 non-null   float64\n",
      " 46  46      70288 non-null  float64\n",
      " 47  47      70288 non-null  float64\n",
      " 48  48      70288 non-null  float64\n",
      " 49  49      70288 non-null  float64\n",
      " 50  50      70288 non-null  float64\n",
      " 51  51      70288 non-null  float64\n",
      " 52  52      70288 non-null  float64\n",
      " 53  53      70288 non-null  float64\n",
      " 54  54      70287 non-null  float64\n",
      " 55  55      70288 non-null  float64\n",
      " 56  56      70288 non-null  float64\n",
      " 57  57      70287 non-null  float64\n",
      " 58  58      70287 non-null  float64\n",
      " 59  59      70287 non-null  float64\n",
      " 60  60      70287 non-null  float64\n",
      " 61  61      70287 non-null  float64\n",
      " 62  62      70287 non-null  float64\n",
      " 63  63      70287 non-null  float64\n",
      " 64  64      61107 non-null  object \n",
      " 65  65      70288 non-null  float64\n",
      "dtypes: float64(49), int64(9), object(8)\n",
      "memory usage: 35.4+ MB\n"
     ]
    }
   ],
   "source": [
    "df.info()"
   ]
  },
  {
   "cell_type": "code",
   "execution_count": 5,
   "id": "b2d5b1b9",
   "metadata": {},
   "outputs": [
    {
     "data": {
      "text/html": [
       "<div>\n",
       "<style scoped>\n",
       "    .dataframe tbody tr th:only-of-type {\n",
       "        vertical-align: middle;\n",
       "    }\n",
       "\n",
       "    .dataframe tbody tr th {\n",
       "        vertical-align: top;\n",
       "    }\n",
       "\n",
       "    .dataframe thead th {\n",
       "        text-align: right;\n",
       "    }\n",
       "</style>\n",
       "<table border=\"1\" class=\"dataframe\">\n",
       "  <thead>\n",
       "    <tr style=\"text-align: right;\">\n",
       "      <th></th>\n",
       "      <th>0</th>\n",
       "      <th>1</th>\n",
       "      <th>2</th>\n",
       "      <th>3</th>\n",
       "      <th>4</th>\n",
       "      <th>5</th>\n",
       "      <th>6</th>\n",
       "      <th>7</th>\n",
       "      <th>8</th>\n",
       "      <th>9</th>\n",
       "      <th>...</th>\n",
       "      <th>56</th>\n",
       "      <th>57</th>\n",
       "      <th>58</th>\n",
       "      <th>59</th>\n",
       "      <th>60</th>\n",
       "      <th>61</th>\n",
       "      <th>62</th>\n",
       "      <th>63</th>\n",
       "      <th>64</th>\n",
       "      <th>65</th>\n",
       "    </tr>\n",
       "  </thead>\n",
       "  <tbody>\n",
       "    <tr>\n",
       "      <th>0</th>\n",
       "      <td>Jason Praet</td>\n",
       "      <td>Detroit</td>\n",
       "      <td>Horz</td>\n",
       "      <td>6</td>\n",
       "      <td>1.0</td>\n",
       "      <td>0.0</td>\n",
       "      <td>16.8</td>\n",
       "      <td>0.0</td>\n",
       "      <td>0.00</td>\n",
       "      <td>0.0</td>\n",
       "      <td>...</td>\n",
       "      <td>-1.499380</td>\n",
       "      <td>0.1429</td>\n",
       "      <td>0.1429</td>\n",
       "      <td>0.2857</td>\n",
       "      <td>0.0000</td>\n",
       "      <td>0.2857</td>\n",
       "      <td>0.0000</td>\n",
       "      <td>0.0000</td>\n",
       "      <td>None</td>\n",
       "      <td>5.70546</td>\n",
       "    </tr>\n",
       "    <tr>\n",
       "      <th>1</th>\n",
       "      <td>DeAndrae Ross</td>\n",
       "      <td>South Alabama</td>\n",
       "      <td>SB</td>\n",
       "      <td>22</td>\n",
       "      <td>8.4</td>\n",
       "      <td>62.0</td>\n",
       "      <td>14.1</td>\n",
       "      <td>32.6</td>\n",
       "      <td>33.40</td>\n",
       "      <td>0.0</td>\n",
       "      <td>...</td>\n",
       "      <td>-1.912160</td>\n",
       "      <td>0.0000</td>\n",
       "      <td>0.3333</td>\n",
       "      <td>0.3333</td>\n",
       "      <td>0.2083</td>\n",
       "      <td>0.0833</td>\n",
       "      <td>0.0000</td>\n",
       "      <td>0.7500</td>\n",
       "      <td>None</td>\n",
       "      <td>6.20657</td>\n",
       "    </tr>\n",
       "    <tr>\n",
       "      <th>2</th>\n",
       "      <td>DeAndrae Ross</td>\n",
       "      <td>South Alabama</td>\n",
       "      <td>SB</td>\n",
       "      <td>26</td>\n",
       "      <td>29.5</td>\n",
       "      <td>97.3</td>\n",
       "      <td>16.6</td>\n",
       "      <td>42.5</td>\n",
       "      <td>44.43</td>\n",
       "      <td>1.6</td>\n",
       "      <td>...</td>\n",
       "      <td>-1.941150</td>\n",
       "      <td>0.1923</td>\n",
       "      <td>0.6154</td>\n",
       "      <td>0.8077</td>\n",
       "      <td>1.1923</td>\n",
       "      <td>0.3462</td>\n",
       "      <td>0.0385</td>\n",
       "      <td>3.8846</td>\n",
       "      <td>None</td>\n",
       "      <td>6.22026</td>\n",
       "    </tr>\n",
       "    <tr>\n",
       "      <th>3</th>\n",
       "      <td>DeAndrae Ross</td>\n",
       "      <td>Troy</td>\n",
       "      <td>SB</td>\n",
       "      <td>7</td>\n",
       "      <td>11.5</td>\n",
       "      <td>67.1</td>\n",
       "      <td>16.9</td>\n",
       "      <td>34.5</td>\n",
       "      <td>36.11</td>\n",
       "      <td>3.1</td>\n",
       "      <td>...</td>\n",
       "      <td>-3.886670</td>\n",
       "      <td>0.5714</td>\n",
       "      <td>1.1429</td>\n",
       "      <td>1.7143</td>\n",
       "      <td>1.4286</td>\n",
       "      <td>0.1429</td>\n",
       "      <td>0.0000</td>\n",
       "      <td>3.2857</td>\n",
       "      <td>Wing G</td>\n",
       "      <td>7.67089</td>\n",
       "    </tr>\n",
       "    <tr>\n",
       "      <th>4</th>\n",
       "      <td>Pooh Williams</td>\n",
       "      <td>Utah St.</td>\n",
       "      <td>WAC</td>\n",
       "      <td>28</td>\n",
       "      <td>24.3</td>\n",
       "      <td>93.1</td>\n",
       "      <td>13.8</td>\n",
       "      <td>45.2</td>\n",
       "      <td>46.20</td>\n",
       "      <td>1.4</td>\n",
       "      <td>...</td>\n",
       "      <td>-0.713339</td>\n",
       "      <td>0.1379</td>\n",
       "      <td>0.6897</td>\n",
       "      <td>0.8276</td>\n",
       "      <td>1.0000</td>\n",
       "      <td>0.3793</td>\n",
       "      <td>0.0690</td>\n",
       "      <td>2.4483</td>\n",
       "      <td>None</td>\n",
       "      <td>4.26818</td>\n",
       "    </tr>\n",
       "  </tbody>\n",
       "</table>\n",
       "<p>5 rows × 66 columns</p>\n",
       "</div>"
      ],
      "text/plain": [
       "              0              1     2   3     4     5     6     7      8    9   \\\n",
       "0    Jason Praet        Detroit  Horz   6   1.0   0.0  16.8   0.0   0.00  0.0   \n",
       "1  DeAndrae Ross  South Alabama    SB  22   8.4  62.0  14.1  32.6  33.40  0.0   \n",
       "2  DeAndrae Ross  South Alabama    SB  26  29.5  97.3  16.6  42.5  44.43  1.6   \n",
       "3  DeAndrae Ross           Troy    SB   7  11.5  67.1  16.9  34.5  36.11  3.1   \n",
       "4  Pooh Williams       Utah St.   WAC  28  24.3  93.1  13.8  45.2  46.20  1.4   \n",
       "\n",
       "   ...        56      57      58      59      60      61      62      63  \\\n",
       "0  ... -1.499380  0.1429  0.1429  0.2857  0.0000  0.2857  0.0000  0.0000   \n",
       "1  ... -1.912160  0.0000  0.3333  0.3333  0.2083  0.0833  0.0000  0.7500   \n",
       "2  ... -1.941150  0.1923  0.6154  0.8077  1.1923  0.3462  0.0385  3.8846   \n",
       "3  ... -3.886670  0.5714  1.1429  1.7143  1.4286  0.1429  0.0000  3.2857   \n",
       "4  ... -0.713339  0.1379  0.6897  0.8276  1.0000  0.3793  0.0690  2.4483   \n",
       "\n",
       "       64       65  \n",
       "0    None  5.70546  \n",
       "1    None  6.20657  \n",
       "2    None  6.22026  \n",
       "3  Wing G  7.67089  \n",
       "4    None  4.26818  \n",
       "\n",
       "[5 rows x 66 columns]"
      ]
     },
     "execution_count": 5,
     "metadata": {},
     "output_type": "execute_result"
    }
   ],
   "source": [
    "df.head()"
   ]
  },
  {
   "cell_type": "markdown",
   "id": "93bcb048",
   "metadata": {},
   "source": [
    "## Data wrangling/cleaning"
   ]
  },
  {
   "cell_type": "code",
   "execution_count": 6,
   "id": "5bf07f79",
   "metadata": {},
   "outputs": [],
   "source": [
    "# adding column headers based on https://www.dropbox.com/s/ryugeykvntto5ji/pstatheaders.xlsx?dl=0\n",
    "\n",
    "new_columns = {0: 'player_name', 1: 'school', 2: 'conference', 3: 'GP', 4: 'Min_per',\n",
    "               5: 'ORtg', 6: 'usg', 7: 'eFG', 8: 'TS_per', 9: 'ORB_per', 10: 'DRB_per',\n",
    "              11: 'AST_per', 12: 'TO_per', 13: 'FTM', 14: 'FTA', 15: 'FT_per',16: 'twoPM',\n",
    "              17: 'twoPA', 18: 'twoP_per', 19: 'TPM', 20: 'TPA', 21: 'TP_per', 22: 'blk_per',\n",
    "              23: 'stl_per', 24: 'ftr', 25: 'yr', 26: 'ht', 27: 'num', 28: 'porpag', 29: 'adjoe',\n",
    "              30: 'pfr', 31: 'year', 32: 'pid', 33: 'type', 34: 'rec-rk', 35: 'ast/tov', 36: 'rimmade',\n",
    "              37: 'rimmade + rimmiss', 38: 'midmade', 39: 'midmade + midmiss', 40: 'rimmade/(rimmade+rimmiss)',\n",
    "              41: 'midmade/(midmade+mismiss)', 42: 'dunksmade', 43: 'dunksmiss + dunksmade', \n",
    "              44: 'dunksmade/(dunksmade+dunksmiss)', 45: 'pick', 46: 'drtg', 47: 'adrtg', 48: 'dporpag',\n",
    "              49: 'stops', 50: 'bpm', 51: 'obpm', 52: 'dbpm', 53: 'gbpm', 54: 'mp', 55: 'ogbpm', 56: 'dgbpm',\n",
    "               57: 'oreb', 58: 'dreb', 59: 'treb', 60: 'ast', 61: 'stl', 62: 'blk', 63: 'pts', 64: 'role',}"
   ]
  },
  {
   "cell_type": "code",
   "execution_count": 7,
   "id": "50d9b6ad",
   "metadata": {},
   "outputs": [],
   "source": [
    "# renaming columns\n",
    "df = df.rename(columns = new_columns)"
   ]
  },
  {
   "cell_type": "code",
   "execution_count": 8,
   "id": "8c2f23be",
   "metadata": {},
   "outputs": [
    {
     "data": {
      "text/html": [
       "<div>\n",
       "<style scoped>\n",
       "    .dataframe tbody tr th:only-of-type {\n",
       "        vertical-align: middle;\n",
       "    }\n",
       "\n",
       "    .dataframe tbody tr th {\n",
       "        vertical-align: top;\n",
       "    }\n",
       "\n",
       "    .dataframe thead th {\n",
       "        text-align: right;\n",
       "    }\n",
       "</style>\n",
       "<table border=\"1\" class=\"dataframe\">\n",
       "  <thead>\n",
       "    <tr style=\"text-align: right;\">\n",
       "      <th></th>\n",
       "      <th>player_name</th>\n",
       "      <th>school</th>\n",
       "      <th>conference</th>\n",
       "      <th>GP</th>\n",
       "      <th>Min_per</th>\n",
       "      <th>ORtg</th>\n",
       "      <th>usg</th>\n",
       "      <th>eFG</th>\n",
       "      <th>TS_per</th>\n",
       "      <th>ORB_per</th>\n",
       "      <th>...</th>\n",
       "      <th>dgbpm</th>\n",
       "      <th>oreb</th>\n",
       "      <th>dreb</th>\n",
       "      <th>treb</th>\n",
       "      <th>ast</th>\n",
       "      <th>stl</th>\n",
       "      <th>blk</th>\n",
       "      <th>pts</th>\n",
       "      <th>role</th>\n",
       "      <th>65</th>\n",
       "    </tr>\n",
       "  </thead>\n",
       "  <tbody>\n",
       "    <tr>\n",
       "      <th>0</th>\n",
       "      <td>Jason Praet</td>\n",
       "      <td>Detroit</td>\n",
       "      <td>Horz</td>\n",
       "      <td>6</td>\n",
       "      <td>1.0</td>\n",
       "      <td>0.0</td>\n",
       "      <td>16.8</td>\n",
       "      <td>0.0</td>\n",
       "      <td>0.00</td>\n",
       "      <td>0.0</td>\n",
       "      <td>...</td>\n",
       "      <td>-1.499380</td>\n",
       "      <td>0.1429</td>\n",
       "      <td>0.1429</td>\n",
       "      <td>0.2857</td>\n",
       "      <td>0.0000</td>\n",
       "      <td>0.2857</td>\n",
       "      <td>0.0000</td>\n",
       "      <td>0.0000</td>\n",
       "      <td>None</td>\n",
       "      <td>5.70546</td>\n",
       "    </tr>\n",
       "    <tr>\n",
       "      <th>1</th>\n",
       "      <td>DeAndrae Ross</td>\n",
       "      <td>South Alabama</td>\n",
       "      <td>SB</td>\n",
       "      <td>22</td>\n",
       "      <td>8.4</td>\n",
       "      <td>62.0</td>\n",
       "      <td>14.1</td>\n",
       "      <td>32.6</td>\n",
       "      <td>33.40</td>\n",
       "      <td>0.0</td>\n",
       "      <td>...</td>\n",
       "      <td>-1.912160</td>\n",
       "      <td>0.0000</td>\n",
       "      <td>0.3333</td>\n",
       "      <td>0.3333</td>\n",
       "      <td>0.2083</td>\n",
       "      <td>0.0833</td>\n",
       "      <td>0.0000</td>\n",
       "      <td>0.7500</td>\n",
       "      <td>None</td>\n",
       "      <td>6.20657</td>\n",
       "    </tr>\n",
       "    <tr>\n",
       "      <th>2</th>\n",
       "      <td>DeAndrae Ross</td>\n",
       "      <td>South Alabama</td>\n",
       "      <td>SB</td>\n",
       "      <td>26</td>\n",
       "      <td>29.5</td>\n",
       "      <td>97.3</td>\n",
       "      <td>16.6</td>\n",
       "      <td>42.5</td>\n",
       "      <td>44.43</td>\n",
       "      <td>1.6</td>\n",
       "      <td>...</td>\n",
       "      <td>-1.941150</td>\n",
       "      <td>0.1923</td>\n",
       "      <td>0.6154</td>\n",
       "      <td>0.8077</td>\n",
       "      <td>1.1923</td>\n",
       "      <td>0.3462</td>\n",
       "      <td>0.0385</td>\n",
       "      <td>3.8846</td>\n",
       "      <td>None</td>\n",
       "      <td>6.22026</td>\n",
       "    </tr>\n",
       "    <tr>\n",
       "      <th>3</th>\n",
       "      <td>DeAndrae Ross</td>\n",
       "      <td>Troy</td>\n",
       "      <td>SB</td>\n",
       "      <td>7</td>\n",
       "      <td>11.5</td>\n",
       "      <td>67.1</td>\n",
       "      <td>16.9</td>\n",
       "      <td>34.5</td>\n",
       "      <td>36.11</td>\n",
       "      <td>3.1</td>\n",
       "      <td>...</td>\n",
       "      <td>-3.886670</td>\n",
       "      <td>0.5714</td>\n",
       "      <td>1.1429</td>\n",
       "      <td>1.7143</td>\n",
       "      <td>1.4286</td>\n",
       "      <td>0.1429</td>\n",
       "      <td>0.0000</td>\n",
       "      <td>3.2857</td>\n",
       "      <td>Wing G</td>\n",
       "      <td>7.67089</td>\n",
       "    </tr>\n",
       "    <tr>\n",
       "      <th>4</th>\n",
       "      <td>Pooh Williams</td>\n",
       "      <td>Utah St.</td>\n",
       "      <td>WAC</td>\n",
       "      <td>28</td>\n",
       "      <td>24.3</td>\n",
       "      <td>93.1</td>\n",
       "      <td>13.8</td>\n",
       "      <td>45.2</td>\n",
       "      <td>46.20</td>\n",
       "      <td>1.4</td>\n",
       "      <td>...</td>\n",
       "      <td>-0.713339</td>\n",
       "      <td>0.1379</td>\n",
       "      <td>0.6897</td>\n",
       "      <td>0.8276</td>\n",
       "      <td>1.0000</td>\n",
       "      <td>0.3793</td>\n",
       "      <td>0.0690</td>\n",
       "      <td>2.4483</td>\n",
       "      <td>None</td>\n",
       "      <td>4.26818</td>\n",
       "    </tr>\n",
       "  </tbody>\n",
       "</table>\n",
       "<p>5 rows × 66 columns</p>\n",
       "</div>"
      ],
      "text/plain": [
       "     player_name         school conference  GP  Min_per  ORtg   usg   eFG  \\\n",
       "0    Jason Praet        Detroit       Horz   6      1.0   0.0  16.8   0.0   \n",
       "1  DeAndrae Ross  South Alabama         SB  22      8.4  62.0  14.1  32.6   \n",
       "2  DeAndrae Ross  South Alabama         SB  26     29.5  97.3  16.6  42.5   \n",
       "3  DeAndrae Ross           Troy         SB   7     11.5  67.1  16.9  34.5   \n",
       "4  Pooh Williams       Utah St.        WAC  28     24.3  93.1  13.8  45.2   \n",
       "\n",
       "   TS_per  ORB_per  ...     dgbpm    oreb    dreb    treb     ast     stl  \\\n",
       "0    0.00      0.0  ... -1.499380  0.1429  0.1429  0.2857  0.0000  0.2857   \n",
       "1   33.40      0.0  ... -1.912160  0.0000  0.3333  0.3333  0.2083  0.0833   \n",
       "2   44.43      1.6  ... -1.941150  0.1923  0.6154  0.8077  1.1923  0.3462   \n",
       "3   36.11      3.1  ... -3.886670  0.5714  1.1429  1.7143  1.4286  0.1429   \n",
       "4   46.20      1.4  ... -0.713339  0.1379  0.6897  0.8276  1.0000  0.3793   \n",
       "\n",
       "      blk     pts    role       65  \n",
       "0  0.0000  0.0000    None  5.70546  \n",
       "1  0.0000  0.7500    None  6.20657  \n",
       "2  0.0385  3.8846    None  6.22026  \n",
       "3  0.0000  3.2857  Wing G  7.67089  \n",
       "4  0.0690  2.4483    None  4.26818  \n",
       "\n",
       "[5 rows x 66 columns]"
      ]
     },
     "execution_count": 8,
     "metadata": {},
     "output_type": "execute_result"
    }
   ],
   "source": [
    "df.head()"
   ]
  },
  {
   "cell_type": "markdown",
   "id": "5ad3bed7",
   "metadata": {},
   "source": [
    "### Adjusting college columns"
   ]
  },
  {
   "cell_type": "code",
   "execution_count": 9,
   "id": "d184bc21",
   "metadata": {},
   "outputs": [
    {
     "data": {
      "text/html": [
       "<div>\n",
       "<style scoped>\n",
       "    .dataframe tbody tr th:only-of-type {\n",
       "        vertical-align: middle;\n",
       "    }\n",
       "\n",
       "    .dataframe tbody tr th {\n",
       "        vertical-align: top;\n",
       "    }\n",
       "\n",
       "    .dataframe thead th {\n",
       "        text-align: right;\n",
       "    }\n",
       "</style>\n",
       "<table border=\"1\" class=\"dataframe\">\n",
       "  <thead>\n",
       "    <tr style=\"text-align: right;\">\n",
       "      <th></th>\n",
       "      <th>player_name</th>\n",
       "      <th>school</th>\n",
       "      <th>conference</th>\n",
       "      <th>GP</th>\n",
       "      <th>Min_per</th>\n",
       "      <th>ORtg</th>\n",
       "      <th>usg</th>\n",
       "      <th>eFG</th>\n",
       "      <th>TS_per</th>\n",
       "      <th>ORB_per</th>\n",
       "      <th>...</th>\n",
       "      <th>dgbpm</th>\n",
       "      <th>oreb</th>\n",
       "      <th>dreb</th>\n",
       "      <th>treb</th>\n",
       "      <th>ast</th>\n",
       "      <th>stl</th>\n",
       "      <th>blk</th>\n",
       "      <th>pts</th>\n",
       "      <th>role</th>\n",
       "      <th>65</th>\n",
       "    </tr>\n",
       "  </thead>\n",
       "  <tbody>\n",
       "    <tr>\n",
       "      <th>19822</th>\n",
       "      <td>C.J. McCollum</td>\n",
       "      <td>Lehigh</td>\n",
       "      <td>Pat</td>\n",
       "      <td>33</td>\n",
       "      <td>79.1</td>\n",
       "      <td>115.6</td>\n",
       "      <td>27.0</td>\n",
       "      <td>54.1</td>\n",
       "      <td>59.33</td>\n",
       "      <td>5.1</td>\n",
       "      <td>...</td>\n",
       "      <td>-0.500785</td>\n",
       "      <td>1.3939</td>\n",
       "      <td>3.6061</td>\n",
       "      <td>5.0000</td>\n",
       "      <td>2.3939</td>\n",
       "      <td>1.3030</td>\n",
       "      <td>0.2121</td>\n",
       "      <td>19.1212</td>\n",
       "      <td>Wing G</td>\n",
       "      <td>9.24141</td>\n",
       "    </tr>\n",
       "    <tr>\n",
       "      <th>19823</th>\n",
       "      <td>C.J. McCollum</td>\n",
       "      <td>Lehigh</td>\n",
       "      <td>Pat</td>\n",
       "      <td>31</td>\n",
       "      <td>85.2</td>\n",
       "      <td>104.2</td>\n",
       "      <td>32.1</td>\n",
       "      <td>44.7</td>\n",
       "      <td>52.26</td>\n",
       "      <td>6.1</td>\n",
       "      <td>...</td>\n",
       "      <td>1.080930</td>\n",
       "      <td>1.9032</td>\n",
       "      <td>5.9032</td>\n",
       "      <td>7.8065</td>\n",
       "      <td>2.1613</td>\n",
       "      <td>2.4839</td>\n",
       "      <td>0.6774</td>\n",
       "      <td>21.8387</td>\n",
       "      <td>Wing G</td>\n",
       "      <td>8.67357</td>\n",
       "    </tr>\n",
       "    <tr>\n",
       "      <th>19824</th>\n",
       "      <td>C.J. McCollum</td>\n",
       "      <td>Lehigh</td>\n",
       "      <td>Pat</td>\n",
       "      <td>34</td>\n",
       "      <td>83.6</td>\n",
       "      <td>114.5</td>\n",
       "      <td>32.7</td>\n",
       "      <td>49.9</td>\n",
       "      <td>55.93</td>\n",
       "      <td>5.0</td>\n",
       "      <td>...</td>\n",
       "      <td>3.551880</td>\n",
       "      <td>1.4706</td>\n",
       "      <td>5.0882</td>\n",
       "      <td>6.5588</td>\n",
       "      <td>3.5294</td>\n",
       "      <td>2.6176</td>\n",
       "      <td>0.5588</td>\n",
       "      <td>22.3529</td>\n",
       "      <td>Combo G</td>\n",
       "      <td>8.79588</td>\n",
       "    </tr>\n",
       "    <tr>\n",
       "      <th>19825</th>\n",
       "      <td>C.J. McCollum</td>\n",
       "      <td>Lehigh</td>\n",
       "      <td>Pat</td>\n",
       "      <td>12</td>\n",
       "      <td>31.0</td>\n",
       "      <td>115.7</td>\n",
       "      <td>35.0</td>\n",
       "      <td>58.0</td>\n",
       "      <td>62.75</td>\n",
       "      <td>4.0</td>\n",
       "      <td>...</td>\n",
       "      <td>0.279008</td>\n",
       "      <td>1.0000</td>\n",
       "      <td>4.0000</td>\n",
       "      <td>5.0000</td>\n",
       "      <td>2.9167</td>\n",
       "      <td>1.4167</td>\n",
       "      <td>0.3333</td>\n",
       "      <td>23.9167</td>\n",
       "      <td>Combo G</td>\n",
       "      <td>10.32070</td>\n",
       "    </tr>\n",
       "  </tbody>\n",
       "</table>\n",
       "<p>4 rows × 66 columns</p>\n",
       "</div>"
      ],
      "text/plain": [
       "         player_name  school conference  GP  Min_per   ORtg   usg   eFG  \\\n",
       "19822  C.J. McCollum  Lehigh        Pat  33     79.1  115.6  27.0  54.1   \n",
       "19823  C.J. McCollum  Lehigh        Pat  31     85.2  104.2  32.1  44.7   \n",
       "19824  C.J. McCollum  Lehigh        Pat  34     83.6  114.5  32.7  49.9   \n",
       "19825  C.J. McCollum  Lehigh        Pat  12     31.0  115.7  35.0  58.0   \n",
       "\n",
       "       TS_per  ORB_per  ...     dgbpm    oreb    dreb    treb     ast     stl  \\\n",
       "19822   59.33      5.1  ... -0.500785  1.3939  3.6061  5.0000  2.3939  1.3030   \n",
       "19823   52.26      6.1  ...  1.080930  1.9032  5.9032  7.8065  2.1613  2.4839   \n",
       "19824   55.93      5.0  ...  3.551880  1.4706  5.0882  6.5588  3.5294  2.6176   \n",
       "19825   62.75      4.0  ...  0.279008  1.0000  4.0000  5.0000  2.9167  1.4167   \n",
       "\n",
       "          blk      pts     role        65  \n",
       "19822  0.2121  19.1212   Wing G   9.24141  \n",
       "19823  0.6774  21.8387   Wing G   8.67357  \n",
       "19824  0.5588  22.3529  Combo G   8.79588  \n",
       "19825  0.3333  23.9167  Combo G  10.32070  \n",
       "\n",
       "[4 rows x 66 columns]"
      ]
     },
     "execution_count": 9,
     "metadata": {},
     "output_type": "execute_result"
    }
   ],
   "source": [
    "# data includes individual seasons\n",
    "df[df['player_name'] == \"C.J. McCollum\"]"
   ]
  },
  {
   "cell_type": "code",
   "execution_count": 10,
   "id": "1ac6e073",
   "metadata": {},
   "outputs": [
    {
     "data": {
      "text/plain": [
       "19822    Fr\n",
       "19823    So\n",
       "19824    Jr\n",
       "19825    Sr\n",
       "Name: yr, dtype: object"
      ]
     },
     "execution_count": 10,
     "metadata": {},
     "output_type": "execute_result"
    }
   ],
   "source": [
    "# understanding order before dropping repeated player name columns\n",
    "# USA college year order 1-freshman, 2-sophomore, 3-junior, 4-senior\n",
    "\n",
    "df.loc[df.player_name == 'C.J. McCollum', 'yr'] "
   ]
  },
  {
   "cell_type": "code",
   "execution_count": 11,
   "id": "0dc32b22",
   "metadata": {},
   "outputs": [],
   "source": [
    "# drop repeated player_name values, keep max college year value\n",
    "\n",
    "df_freedups=df.drop_duplicates(subset=['player_name'], keep='last')"
   ]
  },
  {
   "cell_type": "code",
   "execution_count": 12,
   "id": "759b187a",
   "metadata": {
    "scrolled": true
   },
   "outputs": [
    {
     "name": "stdout",
     "output_type": "stream",
     "text": [
      "<class 'pandas.core.frame.DataFrame'>\n",
      "Int64Index: 28557 entries, 0 to 70324\n",
      "Data columns (total 66 columns):\n",
      " #   Column                           Non-Null Count  Dtype  \n",
      "---  ------                           --------------  -----  \n",
      " 0   player_name                      28557 non-null  object \n",
      " 1   school                           28557 non-null  object \n",
      " 2   conference                       28557 non-null  object \n",
      " 3   GP                               28557 non-null  int64  \n",
      " 4   Min_per                          28557 non-null  float64\n",
      " 5   ORtg                             28557 non-null  float64\n",
      " 6   usg                              28557 non-null  float64\n",
      " 7   eFG                              28557 non-null  float64\n",
      " 8   TS_per                           28557 non-null  float64\n",
      " 9   ORB_per                          28557 non-null  float64\n",
      " 10  DRB_per                          28557 non-null  float64\n",
      " 11  AST_per                          28557 non-null  float64\n",
      " 12  TO_per                           28557 non-null  float64\n",
      " 13  FTM                              28557 non-null  int64  \n",
      " 14  FTA                              28557 non-null  int64  \n",
      " 15  FT_per                           28557 non-null  float64\n",
      " 16  twoPM                            28557 non-null  int64  \n",
      " 17  twoPA                            28557 non-null  int64  \n",
      " 18  twoP_per                         28557 non-null  float64\n",
      " 19  TPM                              28557 non-null  int64  \n",
      " 20  TPA                              28557 non-null  int64  \n",
      " 21  TP_per                           28557 non-null  float64\n",
      " 22  blk_per                          28557 non-null  float64\n",
      " 23  stl_per                          28557 non-null  float64\n",
      " 24  ftr                              28557 non-null  float64\n",
      " 25  yr                               28542 non-null  object \n",
      " 26  ht                               28496 non-null  object \n",
      " 27  num                              25184 non-null  object \n",
      " 28  porpag                           28557 non-null  float64\n",
      " 29  adjoe                            28557 non-null  float64\n",
      " 30  pfr                              28557 non-null  float64\n",
      " 31  year                             28557 non-null  int64  \n",
      " 32  pid                              28557 non-null  int64  \n",
      " 33  type                             28557 non-null  object \n",
      " 34  rec-rk                           7248 non-null   float64\n",
      " 35  ast/tov                          25600 non-null  float64\n",
      " 36  rimmade                          24093 non-null  float64\n",
      " 37  rimmade + rimmiss                24093 non-null  float64\n",
      " 38  midmade                          24093 non-null  float64\n",
      " 39  midmade + midmiss                24093 non-null  float64\n",
      " 40  rimmade/(rimmade+rimmiss)        21760 non-null  float64\n",
      " 41  midmade/(midmade+mismiss)        21555 non-null  float64\n",
      " 42  dunksmade                        24093 non-null  float64\n",
      " 43  dunksmiss + dunksmade            24093 non-null  float64\n",
      " 44  dunksmade/(dunksmade+dunksmiss)  10892 non-null  float64\n",
      " 45  pick                             664 non-null    float64\n",
      " 46  drtg                             28548 non-null  float64\n",
      " 47  adrtg                            28548 non-null  float64\n",
      " 48  dporpag                          28548 non-null  float64\n",
      " 49  stops                            28548 non-null  float64\n",
      " 50  bpm                              28548 non-null  float64\n",
      " 51  obpm                             28548 non-null  float64\n",
      " 52  dbpm                             28548 non-null  float64\n",
      " 53  gbpm                             28548 non-null  float64\n",
      " 54  mp                               28547 non-null  float64\n",
      " 55  ogbpm                            28548 non-null  float64\n",
      " 56  dgbpm                            28548 non-null  float64\n",
      " 57  oreb                             28547 non-null  float64\n",
      " 58  dreb                             28547 non-null  float64\n",
      " 59  treb                             28547 non-null  float64\n",
      " 60  ast                              28547 non-null  float64\n",
      " 61  stl                              28547 non-null  float64\n",
      " 62  blk                              28547 non-null  float64\n",
      " 63  pts                              28547 non-null  float64\n",
      " 64  role                             25237 non-null  object \n",
      " 65  65                               28548 non-null  float64\n",
      "dtypes: float64(49), int64(9), object(8)\n",
      "memory usage: 14.6+ MB\n"
     ]
    }
   ],
   "source": [
    "# checking new df without dups\n",
    "df_freedups.info()"
   ]
  },
  {
   "cell_type": "code",
   "execution_count": 13,
   "id": "d9f3b76d",
   "metadata": {},
   "outputs": [
    {
     "data": {
      "text/plain": [
       "19825    Sr\n",
       "Name: yr, dtype: object"
      ]
     },
     "execution_count": 13,
     "metadata": {},
     "output_type": "execute_result"
    }
   ],
   "source": [
    "#validating changes\n",
    "\n",
    "df_freedups.loc[df_freedups.player_name == 'C.J. McCollum', 'yr'] "
   ]
  },
  {
   "cell_type": "code",
   "execution_count": 14,
   "id": "64b03544",
   "metadata": {},
   "outputs": [
    {
     "data": {
      "text/plain": [
       "Sr      14496\n",
       "Jr       5052\n",
       "Fr       4512\n",
       "So       4275\n",
       "N/A       186\n",
       "None       18\n",
       "0           3\n",
       "Name: yr, dtype: int64"
      ]
     },
     "execution_count": 14,
     "metadata": {},
     "output_type": "execute_result"
    }
   ],
   "source": [
    "df_freedups['yr'].value_counts()"
   ]
  },
  {
   "cell_type": "code",
   "execution_count": 15,
   "id": "dfc9a73e",
   "metadata": {},
   "outputs": [
    {
     "name": "stderr",
     "output_type": "stream",
     "text": [
      "/Users/polferrandis/opt/anaconda3/lib/python3.8/site-packages/pandas/core/frame.py:4906: SettingWithCopyWarning: \n",
      "A value is trying to be set on a copy of a slice from a DataFrame\n",
      "\n",
      "See the caveats in the documentation: https://pandas.pydata.org/pandas-docs/stable/user_guide/indexing.html#returning-a-view-versus-a-copy\n",
      "  return super().drop(\n"
     ]
    }
   ],
   "source": [
    "df_freedups.drop(df_freedups.loc[df_freedups['yr']=='None'].index, inplace=True)"
   ]
  },
  {
   "cell_type": "code",
   "execution_count": 16,
   "id": "87200709",
   "metadata": {},
   "outputs": [],
   "source": [
    "df_freedups.drop(df_freedups.loc[df_freedups['yr']=='N/A'].index, inplace=True)"
   ]
  },
  {
   "cell_type": "code",
   "execution_count": 17,
   "id": "77ee7764",
   "metadata": {},
   "outputs": [],
   "source": [
    "df_freedups.drop(df_freedups.loc[df_freedups['yr']==0].index, inplace=True)"
   ]
  },
  {
   "cell_type": "code",
   "execution_count": 18,
   "id": "f13975df",
   "metadata": {},
   "outputs": [
    {
     "data": {
      "text/plain": [
       "Sr    14496\n",
       "Jr     5052\n",
       "Fr     4512\n",
       "So     4275\n",
       "Name: yr, dtype: int64"
      ]
     },
     "execution_count": 18,
     "metadata": {},
     "output_type": "execute_result"
    }
   ],
   "source": [
    "df_freedups['yr'].value_counts()"
   ]
  },
  {
   "cell_type": "markdown",
   "id": "9a45ec1e",
   "metadata": {},
   "source": [
    "Adjusting Yr Column\n",
    "\n",
    "Currently the yr column lists a player as Freshman, Sophomore, Junior or Senior depending on what grade the player was in. We are going to adjust this column so that each grade corresponds to a value which will represent the number of years the player played in college."
   ]
  },
  {
   "cell_type": "code",
   "execution_count": 19,
   "id": "4f400e23",
   "metadata": {},
   "outputs": [
    {
     "name": "stderr",
     "output_type": "stream",
     "text": [
      "/var/folders/gd/t7jqq6zs1zl6b6b62cxdkccw0000gn/T/ipykernel_13934/645909953.py:16: SettingWithCopyWarning: \n",
      "A value is trying to be set on a copy of a slice from a DataFrame.\n",
      "Try using .loc[row_indexer,col_indexer] = value instead\n",
      "\n",
      "See the caveats in the documentation: https://pandas.pydata.org/pandas-docs/stable/user_guide/indexing.html#returning-a-view-versus-a-copy\n",
      "  df_freedups['yr'] = df_freedups.apply(college_year_num, axis = 1)\n"
     ]
    }
   ],
   "source": [
    "# asign numerical value to college year\n",
    "\n",
    "def college_year_num(df_freedups):\n",
    "    \n",
    "    if (df_freedups['yr'] == 'Fr'):\n",
    "        return '1'\n",
    "    elif (df_freedups['yr'] == 'So'):\n",
    "        return '2'\n",
    "    elif (df_freedups['yr'] == 'Jr'):\n",
    "        return '3'\n",
    "    elif (df_freedups['yr'] == 'Sr'):\n",
    "        return '4'\n",
    "    else:\n",
    "        return 'null'\n",
    "    \n",
    "df_freedups['yr'] = df_freedups.apply(college_year_num, axis = 1)"
   ]
  },
  {
   "cell_type": "code",
   "execution_count": 20,
   "id": "61c972e9",
   "metadata": {
    "scrolled": true
   },
   "outputs": [
    {
     "data": {
      "text/plain": [
       "4       14496\n",
       "3        5052\n",
       "1        4512\n",
       "2        4275\n",
       "null       15\n",
       "Name: yr, dtype: int64"
      ]
     },
     "execution_count": 20,
     "metadata": {},
     "output_type": "execute_result"
    }
   ],
   "source": [
    "df_freedups['yr'].value_counts()"
   ]
  },
  {
   "cell_type": "code",
   "execution_count": 21,
   "id": "bbe324c6",
   "metadata": {},
   "outputs": [],
   "source": [
    "df_freedups.drop(df_freedups.loc[df_freedups['yr']=='null'].index, inplace=True)"
   ]
  },
  {
   "cell_type": "code",
   "execution_count": 22,
   "id": "5be3f98e",
   "metadata": {},
   "outputs": [],
   "source": [
    "#restart index\n",
    "\n",
    "df_freedups=df_freedups.reset_index(drop=True)"
   ]
  },
  {
   "cell_type": "code",
   "execution_count": 23,
   "id": "d4cad585",
   "metadata": {},
   "outputs": [],
   "source": [
    "# before dropping nulls, we will replace null values from 'pick' column to value '0' for undrafted players\n",
    "\n",
    "df_freedups.pick.fillna(0,inplace=True)"
   ]
  },
  {
   "cell_type": "code",
   "execution_count": 24,
   "id": "7f937c67",
   "metadata": {},
   "outputs": [
    {
     "data": {
      "text/html": [
       "<div>\n",
       "<style scoped>\n",
       "    .dataframe tbody tr th:only-of-type {\n",
       "        vertical-align: middle;\n",
       "    }\n",
       "\n",
       "    .dataframe tbody tr th {\n",
       "        vertical-align: top;\n",
       "    }\n",
       "\n",
       "    .dataframe thead th {\n",
       "        text-align: right;\n",
       "    }\n",
       "</style>\n",
       "<table border=\"1\" class=\"dataframe\">\n",
       "  <thead>\n",
       "    <tr style=\"text-align: right;\">\n",
       "      <th></th>\n",
       "      <th>player_name</th>\n",
       "      <th>school</th>\n",
       "      <th>conference</th>\n",
       "      <th>GP</th>\n",
       "      <th>Min_per</th>\n",
       "      <th>ORtg</th>\n",
       "      <th>usg</th>\n",
       "      <th>eFG</th>\n",
       "      <th>TS_per</th>\n",
       "      <th>ORB_per</th>\n",
       "      <th>...</th>\n",
       "      <th>dgbpm</th>\n",
       "      <th>oreb</th>\n",
       "      <th>dreb</th>\n",
       "      <th>treb</th>\n",
       "      <th>ast</th>\n",
       "      <th>stl</th>\n",
       "      <th>blk</th>\n",
       "      <th>pts</th>\n",
       "      <th>role</th>\n",
       "      <th>65</th>\n",
       "    </tr>\n",
       "  </thead>\n",
       "  <tbody>\n",
       "    <tr>\n",
       "      <th>0</th>\n",
       "      <td>Jason Praet</td>\n",
       "      <td>Detroit</td>\n",
       "      <td>Horz</td>\n",
       "      <td>6</td>\n",
       "      <td>1.0</td>\n",
       "      <td>0.0</td>\n",
       "      <td>16.8</td>\n",
       "      <td>0.0</td>\n",
       "      <td>0.00</td>\n",
       "      <td>0.0</td>\n",
       "      <td>...</td>\n",
       "      <td>-1.499380</td>\n",
       "      <td>0.1429</td>\n",
       "      <td>0.1429</td>\n",
       "      <td>0.2857</td>\n",
       "      <td>0.0000</td>\n",
       "      <td>0.2857</td>\n",
       "      <td>0.0000</td>\n",
       "      <td>0.0000</td>\n",
       "      <td>None</td>\n",
       "      <td>5.70546</td>\n",
       "    </tr>\n",
       "    <tr>\n",
       "      <th>1</th>\n",
       "      <td>DeAndrae Ross</td>\n",
       "      <td>Troy</td>\n",
       "      <td>SB</td>\n",
       "      <td>7</td>\n",
       "      <td>11.5</td>\n",
       "      <td>67.1</td>\n",
       "      <td>16.9</td>\n",
       "      <td>34.5</td>\n",
       "      <td>36.11</td>\n",
       "      <td>3.1</td>\n",
       "      <td>...</td>\n",
       "      <td>-3.886670</td>\n",
       "      <td>0.5714</td>\n",
       "      <td>1.1429</td>\n",
       "      <td>1.7143</td>\n",
       "      <td>1.4286</td>\n",
       "      <td>0.1429</td>\n",
       "      <td>0.0000</td>\n",
       "      <td>3.2857</td>\n",
       "      <td>Wing G</td>\n",
       "      <td>7.67089</td>\n",
       "    </tr>\n",
       "    <tr>\n",
       "      <th>2</th>\n",
       "      <td>Pooh Williams</td>\n",
       "      <td>Utah St.</td>\n",
       "      <td>WAC</td>\n",
       "      <td>33</td>\n",
       "      <td>64.5</td>\n",
       "      <td>105.6</td>\n",
       "      <td>18.7</td>\n",
       "      <td>48.1</td>\n",
       "      <td>52.40</td>\n",
       "      <td>0.8</td>\n",
       "      <td>...</td>\n",
       "      <td>0.685989</td>\n",
       "      <td>0.1515</td>\n",
       "      <td>1.4848</td>\n",
       "      <td>1.6364</td>\n",
       "      <td>2.0909</td>\n",
       "      <td>0.2121</td>\n",
       "      <td>0.0909</td>\n",
       "      <td>8.6667</td>\n",
       "      <td>Combo G</td>\n",
       "      <td>9.66297</td>\n",
       "    </tr>\n",
       "    <tr>\n",
       "      <th>3</th>\n",
       "      <td>Mohamed Tangara</td>\n",
       "      <td>Arizona</td>\n",
       "      <td>P10</td>\n",
       "      <td>6</td>\n",
       "      <td>1.0</td>\n",
       "      <td>15.8</td>\n",
       "      <td>18.4</td>\n",
       "      <td>0.0</td>\n",
       "      <td>0.00</td>\n",
       "      <td>9.7</td>\n",
       "      <td>...</td>\n",
       "      <td>-1.825010</td>\n",
       "      <td>0.1667</td>\n",
       "      <td>0.0000</td>\n",
       "      <td>0.1667</td>\n",
       "      <td>0.0000</td>\n",
       "      <td>0.0000</td>\n",
       "      <td>0.1667</td>\n",
       "      <td>0.0000</td>\n",
       "      <td>None</td>\n",
       "      <td>4.60267</td>\n",
       "    </tr>\n",
       "    <tr>\n",
       "      <th>4</th>\n",
       "      <td>Jesus Verdejo</td>\n",
       "      <td>South Florida</td>\n",
       "      <td>BE</td>\n",
       "      <td>27</td>\n",
       "      <td>72.0</td>\n",
       "      <td>96.2</td>\n",
       "      <td>21.8</td>\n",
       "      <td>45.7</td>\n",
       "      <td>47.98</td>\n",
       "      <td>2.1</td>\n",
       "      <td>...</td>\n",
       "      <td>-0.883163</td>\n",
       "      <td>0.6296</td>\n",
       "      <td>2.3333</td>\n",
       "      <td>2.9630</td>\n",
       "      <td>1.9630</td>\n",
       "      <td>0.4815</td>\n",
       "      <td>0.0000</td>\n",
       "      <td>12.1852</td>\n",
       "      <td>None</td>\n",
       "      <td>10.92680</td>\n",
       "    </tr>\n",
       "  </tbody>\n",
       "</table>\n",
       "<p>5 rows × 66 columns</p>\n",
       "</div>"
      ],
      "text/plain": [
       "       player_name         school conference  GP  Min_per   ORtg   usg   eFG  \\\n",
       "0      Jason Praet        Detroit       Horz   6      1.0    0.0  16.8   0.0   \n",
       "1    DeAndrae Ross           Troy         SB   7     11.5   67.1  16.9  34.5   \n",
       "2    Pooh Williams       Utah St.        WAC  33     64.5  105.6  18.7  48.1   \n",
       "3  Mohamed Tangara        Arizona        P10   6      1.0   15.8  18.4   0.0   \n",
       "4    Jesus Verdejo  South Florida         BE  27     72.0   96.2  21.8  45.7   \n",
       "\n",
       "   TS_per  ORB_per  ...     dgbpm    oreb    dreb    treb     ast     stl  \\\n",
       "0    0.00      0.0  ... -1.499380  0.1429  0.1429  0.2857  0.0000  0.2857   \n",
       "1   36.11      3.1  ... -3.886670  0.5714  1.1429  1.7143  1.4286  0.1429   \n",
       "2   52.40      0.8  ...  0.685989  0.1515  1.4848  1.6364  2.0909  0.2121   \n",
       "3    0.00      9.7  ... -1.825010  0.1667  0.0000  0.1667  0.0000  0.0000   \n",
       "4   47.98      2.1  ... -0.883163  0.6296  2.3333  2.9630  1.9630  0.4815   \n",
       "\n",
       "      blk      pts     role        65  \n",
       "0  0.0000   0.0000     None   5.70546  \n",
       "1  0.0000   3.2857   Wing G   7.67089  \n",
       "2  0.0909   8.6667  Combo G   9.66297  \n",
       "3  0.1667   0.0000     None   4.60267  \n",
       "4  0.0000  12.1852     None  10.92680  \n",
       "\n",
       "[5 rows x 66 columns]"
      ]
     },
     "execution_count": 24,
     "metadata": {},
     "output_type": "execute_result"
    }
   ],
   "source": [
    "df_freedups.head()"
   ]
  },
  {
   "cell_type": "markdown",
   "id": "f526d45e",
   "metadata": {},
   "source": [
    "## Feature engineering"
   ]
  },
  {
   "cell_type": "markdown",
   "id": "f98fe33f",
   "metadata": {},
   "source": [
    "As I look into what features will be using to for the model 1, I have decided to create 1 more columns that will later on define the target variable for this model:\n",
    "\n",
    "-Drafted = Yes/No\n"
   ]
  },
  {
   "cell_type": "code",
   "execution_count": 25,
   "id": "29defc0e",
   "metadata": {},
   "outputs": [
    {
     "data": {
      "text/plain": [
       "array([ 0., 44., 49., 52., 54., 48., 40., 57., 33., 21., 55., 20., 50.,\n",
       "       14., 58., 38., 28., 32.,  9., 11., 24., 13., 46., 59., 26., 51.,\n",
       "       30., 37., 27.,  7., 39., 10., 15., 16., 35., 22., 19., 56., 23.,\n",
       "        2., 12., 29.,  6.,  8., 25., 18., 60., 36., 34.,  1., 42.,  4.,\n",
       "       17.,  5., 45.,  3., 41., 47., 43., 53., 31.])"
      ]
     },
     "execution_count": 25,
     "metadata": {},
     "output_type": "execute_result"
    }
   ],
   "source": [
    "df_freedups['pick'].unique()"
   ]
  },
  {
   "cell_type": "markdown",
   "id": "85f664b0",
   "metadata": {},
   "source": [
    "### creating column for drafted/undrafted players"
   ]
  },
  {
   "cell_type": "code",
   "execution_count": 26,
   "id": "2a236879",
   "metadata": {},
   "outputs": [],
   "source": [
    "\n",
    "def drafted_undrafted(df_freedups):\n",
    "    \n",
    "    if (df_freedups['pick'] > 0):\n",
    "        return 'Yes'\n",
    "    else: \n",
    "        return 'No'\n",
    "    \n",
    "df_freedups['drafted'] = df_freedups.apply(drafted_undrafted, axis = 1)\n"
   ]
  },
  {
   "cell_type": "code",
   "execution_count": 27,
   "id": "e987ce84",
   "metadata": {},
   "outputs": [
    {
     "data": {
      "text/plain": [
       "array(['No', 'Yes'], dtype=object)"
      ]
     },
     "execution_count": 27,
     "metadata": {},
     "output_type": "execute_result"
    }
   ],
   "source": [
    "df_freedups['drafted'].unique()"
   ]
  },
  {
   "cell_type": "markdown",
   "id": "de12e7d3",
   "metadata": {},
   "source": [
    "### dropping first columns to create a clean df"
   ]
  },
  {
   "cell_type": "markdown",
   "id": "f02bd2ea",
   "metadata": {},
   "source": [
    "I have decided to keep a combination of conventional stats with advanced stats:\n",
    "\n",
    "'player_name','school','GP','Min_per','ORtg','usg','eFG','TS_per','FT_per','twoP_per','TP_per','yr','ht','ast/tov','pick','drtg','bpm','mp','oreb','dreb','ast','stl','blk','pts','role,''drafted'"
   ]
  },
  {
   "cell_type": "code",
   "execution_count": 28,
   "id": "9766b538",
   "metadata": {},
   "outputs": [],
   "source": [
    "# dropping columns\n",
    "\n",
    "df_freedups_filt=df_freedups.filter(items=['player_name','school','GP','Min_per','ORtg','usg','eFG','TS_per','FT_per','twoP_per','TP_per','yr','ht','ast/tov','pick','drtg','bpm','mp','oreb','dreb','ast','stl','blk','pts','role','drafted'])\n",
    "                 \n",
    "                 "
   ]
  },
  {
   "cell_type": "code",
   "execution_count": 29,
   "id": "6b88b731",
   "metadata": {},
   "outputs": [
    {
     "data": {
      "text/html": [
       "<div>\n",
       "<style scoped>\n",
       "    .dataframe tbody tr th:only-of-type {\n",
       "        vertical-align: middle;\n",
       "    }\n",
       "\n",
       "    .dataframe tbody tr th {\n",
       "        vertical-align: top;\n",
       "    }\n",
       "\n",
       "    .dataframe thead th {\n",
       "        text-align: right;\n",
       "    }\n",
       "</style>\n",
       "<table border=\"1\" class=\"dataframe\">\n",
       "  <thead>\n",
       "    <tr style=\"text-align: right;\">\n",
       "      <th></th>\n",
       "      <th>player_name</th>\n",
       "      <th>school</th>\n",
       "      <th>GP</th>\n",
       "      <th>Min_per</th>\n",
       "      <th>ORtg</th>\n",
       "      <th>usg</th>\n",
       "      <th>eFG</th>\n",
       "      <th>TS_per</th>\n",
       "      <th>FT_per</th>\n",
       "      <th>twoP_per</th>\n",
       "      <th>...</th>\n",
       "      <th>bpm</th>\n",
       "      <th>mp</th>\n",
       "      <th>oreb</th>\n",
       "      <th>dreb</th>\n",
       "      <th>ast</th>\n",
       "      <th>stl</th>\n",
       "      <th>blk</th>\n",
       "      <th>pts</th>\n",
       "      <th>role</th>\n",
       "      <th>drafted</th>\n",
       "    </tr>\n",
       "  </thead>\n",
       "  <tbody>\n",
       "    <tr>\n",
       "      <th>0</th>\n",
       "      <td>Jason Praet</td>\n",
       "      <td>Detroit</td>\n",
       "      <td>6</td>\n",
       "      <td>1.0</td>\n",
       "      <td>0.0</td>\n",
       "      <td>16.8</td>\n",
       "      <td>0.0</td>\n",
       "      <td>0.00</td>\n",
       "      <td>0.000</td>\n",
       "      <td>0.000</td>\n",
       "      <td>...</td>\n",
       "      <td>-16.030800</td>\n",
       "      <td>2.0000</td>\n",
       "      <td>0.1429</td>\n",
       "      <td>0.1429</td>\n",
       "      <td>0.0000</td>\n",
       "      <td>0.2857</td>\n",
       "      <td>0.0000</td>\n",
       "      <td>0.0000</td>\n",
       "      <td>None</td>\n",
       "      <td>No</td>\n",
       "    </tr>\n",
       "    <tr>\n",
       "      <th>1</th>\n",
       "      <td>DeAndrae Ross</td>\n",
       "      <td>Troy</td>\n",
       "      <td>7</td>\n",
       "      <td>11.5</td>\n",
       "      <td>67.1</td>\n",
       "      <td>16.9</td>\n",
       "      <td>34.5</td>\n",
       "      <td>36.11</td>\n",
       "      <td>0.500</td>\n",
       "      <td>0.364</td>\n",
       "      <td>...</td>\n",
       "      <td>-10.394000</td>\n",
       "      <td>18.8571</td>\n",
       "      <td>0.5714</td>\n",
       "      <td>1.1429</td>\n",
       "      <td>1.4286</td>\n",
       "      <td>0.1429</td>\n",
       "      <td>0.0000</td>\n",
       "      <td>3.2857</td>\n",
       "      <td>Wing G</td>\n",
       "      <td>No</td>\n",
       "    </tr>\n",
       "    <tr>\n",
       "      <th>2</th>\n",
       "      <td>Pooh Williams</td>\n",
       "      <td>Utah St.</td>\n",
       "      <td>33</td>\n",
       "      <td>64.5</td>\n",
       "      <td>105.6</td>\n",
       "      <td>18.7</td>\n",
       "      <td>48.1</td>\n",
       "      <td>52.40</td>\n",
       "      <td>0.815</td>\n",
       "      <td>0.394</td>\n",
       "      <td>...</td>\n",
       "      <td>1.125160</td>\n",
       "      <td>26.0000</td>\n",
       "      <td>0.1515</td>\n",
       "      <td>1.4848</td>\n",
       "      <td>2.0909</td>\n",
       "      <td>0.2121</td>\n",
       "      <td>0.0909</td>\n",
       "      <td>8.6667</td>\n",
       "      <td>Combo G</td>\n",
       "      <td>No</td>\n",
       "    </tr>\n",
       "    <tr>\n",
       "      <th>3</th>\n",
       "      <td>Mohamed Tangara</td>\n",
       "      <td>Arizona</td>\n",
       "      <td>6</td>\n",
       "      <td>1.0</td>\n",
       "      <td>15.8</td>\n",
       "      <td>18.4</td>\n",
       "      <td>0.0</td>\n",
       "      <td>0.00</td>\n",
       "      <td>0.000</td>\n",
       "      <td>0.000</td>\n",
       "      <td>...</td>\n",
       "      <td>-12.228400</td>\n",
       "      <td>2.3333</td>\n",
       "      <td>0.1667</td>\n",
       "      <td>0.0000</td>\n",
       "      <td>0.0000</td>\n",
       "      <td>0.0000</td>\n",
       "      <td>0.1667</td>\n",
       "      <td>0.0000</td>\n",
       "      <td>None</td>\n",
       "      <td>No</td>\n",
       "    </tr>\n",
       "    <tr>\n",
       "      <th>4</th>\n",
       "      <td>Jesus Verdejo</td>\n",
       "      <td>South Florida</td>\n",
       "      <td>27</td>\n",
       "      <td>72.0</td>\n",
       "      <td>96.2</td>\n",
       "      <td>21.8</td>\n",
       "      <td>45.7</td>\n",
       "      <td>47.98</td>\n",
       "      <td>0.672</td>\n",
       "      <td>0.427</td>\n",
       "      <td>...</td>\n",
       "      <td>0.003161</td>\n",
       "      <td>33.1852</td>\n",
       "      <td>0.6296</td>\n",
       "      <td>2.3333</td>\n",
       "      <td>1.9630</td>\n",
       "      <td>0.4815</td>\n",
       "      <td>0.0000</td>\n",
       "      <td>12.1852</td>\n",
       "      <td>None</td>\n",
       "      <td>No</td>\n",
       "    </tr>\n",
       "  </tbody>\n",
       "</table>\n",
       "<p>5 rows × 26 columns</p>\n",
       "</div>"
      ],
      "text/plain": [
       "       player_name         school  GP  Min_per   ORtg   usg   eFG  TS_per  \\\n",
       "0      Jason Praet        Detroit   6      1.0    0.0  16.8   0.0    0.00   \n",
       "1    DeAndrae Ross           Troy   7     11.5   67.1  16.9  34.5   36.11   \n",
       "2    Pooh Williams       Utah St.  33     64.5  105.6  18.7  48.1   52.40   \n",
       "3  Mohamed Tangara        Arizona   6      1.0   15.8  18.4   0.0    0.00   \n",
       "4    Jesus Verdejo  South Florida  27     72.0   96.2  21.8  45.7   47.98   \n",
       "\n",
       "   FT_per  twoP_per  ...        bpm       mp    oreb    dreb     ast     stl  \\\n",
       "0   0.000     0.000  ... -16.030800   2.0000  0.1429  0.1429  0.0000  0.2857   \n",
       "1   0.500     0.364  ... -10.394000  18.8571  0.5714  1.1429  1.4286  0.1429   \n",
       "2   0.815     0.394  ...   1.125160  26.0000  0.1515  1.4848  2.0909  0.2121   \n",
       "3   0.000     0.000  ... -12.228400   2.3333  0.1667  0.0000  0.0000  0.0000   \n",
       "4   0.672     0.427  ...   0.003161  33.1852  0.6296  2.3333  1.9630  0.4815   \n",
       "\n",
       "      blk      pts     role  drafted  \n",
       "0  0.0000   0.0000     None       No  \n",
       "1  0.0000   3.2857   Wing G       No  \n",
       "2  0.0909   8.6667  Combo G       No  \n",
       "3  0.1667   0.0000     None       No  \n",
       "4  0.0000  12.1852     None       No  \n",
       "\n",
       "[5 rows x 26 columns]"
      ]
     },
     "execution_count": 29,
     "metadata": {},
     "output_type": "execute_result"
    }
   ],
   "source": [
    "df_freedups_filt.head()"
   ]
  },
  {
   "cell_type": "code",
   "execution_count": 30,
   "id": "5f9ac7fd",
   "metadata": {
    "scrolled": true
   },
   "outputs": [
    {
     "name": "stdout",
     "output_type": "stream",
     "text": [
      "<class 'pandas.core.frame.DataFrame'>\n",
      "RangeIndex: 28335 entries, 0 to 28334\n",
      "Data columns (total 26 columns):\n",
      " #   Column       Non-Null Count  Dtype  \n",
      "---  ------       --------------  -----  \n",
      " 0   player_name  28335 non-null  object \n",
      " 1   school       28335 non-null  object \n",
      " 2   GP           28335 non-null  int64  \n",
      " 3   Min_per      28335 non-null  float64\n",
      " 4   ORtg         28335 non-null  float64\n",
      " 5   usg          28335 non-null  float64\n",
      " 6   eFG          28335 non-null  float64\n",
      " 7   TS_per       28335 non-null  float64\n",
      " 8   FT_per       28335 non-null  float64\n",
      " 9   twoP_per     28335 non-null  float64\n",
      " 10  TP_per       28335 non-null  float64\n",
      " 11  yr           28335 non-null  object \n",
      " 12  ht           28288 non-null  object \n",
      " 13  ast/tov      25510 non-null  float64\n",
      " 14  pick         28335 non-null  float64\n",
      " 15  drtg         28335 non-null  float64\n",
      " 16  bpm          28335 non-null  float64\n",
      " 17  mp           28334 non-null  float64\n",
      " 18  oreb         28334 non-null  float64\n",
      " 19  dreb         28334 non-null  float64\n",
      " 20  ast          28334 non-null  float64\n",
      " 21  stl          28334 non-null  float64\n",
      " 22  blk          28334 non-null  float64\n",
      " 23  pts          28334 non-null  float64\n",
      " 24  role         25028 non-null  object \n",
      " 25  drafted      28335 non-null  object \n",
      "dtypes: float64(19), int64(1), object(6)\n",
      "memory usage: 5.6+ MB\n"
     ]
    }
   ],
   "source": [
    "df_freedups_filt.info()"
   ]
  },
  {
   "cell_type": "code",
   "execution_count": 31,
   "id": "03f63899",
   "metadata": {},
   "outputs": [],
   "source": [
    "df_freedups_filt=df_freedups_filt.dropna()"
   ]
  },
  {
   "cell_type": "code",
   "execution_count": 32,
   "id": "9da73a55",
   "metadata": {
    "scrolled": true
   },
   "outputs": [
    {
     "name": "stdout",
     "output_type": "stream",
     "text": [
      "<class 'pandas.core.frame.DataFrame'>\n",
      "Int64Index: 22489 entries, 1 to 28330\n",
      "Data columns (total 26 columns):\n",
      " #   Column       Non-Null Count  Dtype  \n",
      "---  ------       --------------  -----  \n",
      " 0   player_name  22489 non-null  object \n",
      " 1   school       22489 non-null  object \n",
      " 2   GP           22489 non-null  int64  \n",
      " 3   Min_per      22489 non-null  float64\n",
      " 4   ORtg         22489 non-null  float64\n",
      " 5   usg          22489 non-null  float64\n",
      " 6   eFG          22489 non-null  float64\n",
      " 7   TS_per       22489 non-null  float64\n",
      " 8   FT_per       22489 non-null  float64\n",
      " 9   twoP_per     22489 non-null  float64\n",
      " 10  TP_per       22489 non-null  float64\n",
      " 11  yr           22489 non-null  object \n",
      " 12  ht           22489 non-null  object \n",
      " 13  ast/tov      22489 non-null  float64\n",
      " 14  pick         22489 non-null  float64\n",
      " 15  drtg         22489 non-null  float64\n",
      " 16  bpm          22489 non-null  float64\n",
      " 17  mp           22489 non-null  float64\n",
      " 18  oreb         22489 non-null  float64\n",
      " 19  dreb         22489 non-null  float64\n",
      " 20  ast          22489 non-null  float64\n",
      " 21  stl          22489 non-null  float64\n",
      " 22  blk          22489 non-null  float64\n",
      " 23  pts          22489 non-null  float64\n",
      " 24  role         22489 non-null  object \n",
      " 25  drafted      22489 non-null  object \n",
      "dtypes: float64(19), int64(1), object(6)\n",
      "memory usage: 4.6+ MB\n"
     ]
    }
   ],
   "source": [
    "df_freedups_filt.info()"
   ]
  },
  {
   "cell_type": "markdown",
   "id": "a4bba22b",
   "metadata": {},
   "source": [
    "### cleaning height column and turning it to a numeric value "
   ]
  },
  {
   "cell_type": "code",
   "execution_count": 33,
   "id": "bc2aaa50",
   "metadata": {},
   "outputs": [
    {
     "data": {
      "text/plain": [
       "6-7     2277\n",
       "6-4     2205\n",
       "6-5     2198\n",
       "6-8     2183\n",
       "6-6     2112\n",
       "6-3     2032\n",
       "6-2     1819\n",
       "6-9     1654\n",
       "6-1     1372\n",
       "6-0     1183\n",
       "6-10    1042\n",
       "5-11     564\n",
       "5-10     531\n",
       "6-11     495\n",
       "7-0      287\n",
       "5-9      228\n",
       "7-1       97\n",
       "5-8       85\n",
       "7-2       39\n",
       "5-7       35\n",
       "7-3       15\n",
       "5-6       10\n",
       "7-4        9\n",
       "4-0        5\n",
       "7-5        3\n",
       "5-5        2\n",
       "None       2\n",
       "5-4        1\n",
       "-          1\n",
       "7-6        1\n",
       "6'4        1\n",
       "5-2        1\n",
       "Name: ht, dtype: int64"
      ]
     },
     "execution_count": 33,
     "metadata": {},
     "output_type": "execute_result"
    }
   ],
   "source": [
    "df_freedups_filt['ht'].value_counts()"
   ]
  },
  {
   "cell_type": "code",
   "execution_count": 34,
   "id": "678141d0",
   "metadata": {},
   "outputs": [
    {
     "data": {
      "text/html": [
       "<div>\n",
       "<style scoped>\n",
       "    .dataframe tbody tr th:only-of-type {\n",
       "        vertical-align: middle;\n",
       "    }\n",
       "\n",
       "    .dataframe tbody tr th {\n",
       "        vertical-align: top;\n",
       "    }\n",
       "\n",
       "    .dataframe thead th {\n",
       "        text-align: right;\n",
       "    }\n",
       "</style>\n",
       "<table border=\"1\" class=\"dataframe\">\n",
       "  <thead>\n",
       "    <tr style=\"text-align: right;\">\n",
       "      <th></th>\n",
       "      <th>player_name</th>\n",
       "      <th>school</th>\n",
       "      <th>GP</th>\n",
       "      <th>Min_per</th>\n",
       "      <th>ORtg</th>\n",
       "      <th>usg</th>\n",
       "      <th>eFG</th>\n",
       "      <th>TS_per</th>\n",
       "      <th>FT_per</th>\n",
       "      <th>twoP_per</th>\n",
       "      <th>...</th>\n",
       "      <th>bpm</th>\n",
       "      <th>mp</th>\n",
       "      <th>oreb</th>\n",
       "      <th>dreb</th>\n",
       "      <th>ast</th>\n",
       "      <th>stl</th>\n",
       "      <th>blk</th>\n",
       "      <th>pts</th>\n",
       "      <th>role</th>\n",
       "      <th>drafted</th>\n",
       "    </tr>\n",
       "  </thead>\n",
       "  <tbody>\n",
       "    <tr>\n",
       "      <th>27238</th>\n",
       "      <td>Isaiah Williams</td>\n",
       "      <td>Jackson St.</td>\n",
       "      <td>12</td>\n",
       "      <td>38.8</td>\n",
       "      <td>72.2</td>\n",
       "      <td>20.8</td>\n",
       "      <td>29.7</td>\n",
       "      <td>36.98</td>\n",
       "      <td>0.537</td>\n",
       "      <td>0.302</td>\n",
       "      <td>...</td>\n",
       "      <td>-6.85845</td>\n",
       "      <td>23.5833</td>\n",
       "      <td>1.6667</td>\n",
       "      <td>3.5000</td>\n",
       "      <td>0.6667</td>\n",
       "      <td>0.9167</td>\n",
       "      <td>0.1667</td>\n",
       "      <td>5.8333</td>\n",
       "      <td>Wing G</td>\n",
       "      <td>No</td>\n",
       "    </tr>\n",
       "    <tr>\n",
       "      <th>27239</th>\n",
       "      <td>Justin Thomas</td>\n",
       "      <td>Alcorn St.</td>\n",
       "      <td>9</td>\n",
       "      <td>30.8</td>\n",
       "      <td>62.0</td>\n",
       "      <td>16.3</td>\n",
       "      <td>24.0</td>\n",
       "      <td>29.51</td>\n",
       "      <td>0.625</td>\n",
       "      <td>0.255</td>\n",
       "      <td>...</td>\n",
       "      <td>-8.20410</td>\n",
       "      <td>26.0000</td>\n",
       "      <td>0.1111</td>\n",
       "      <td>2.7778</td>\n",
       "      <td>2.5556</td>\n",
       "      <td>1.0000</td>\n",
       "      <td>0.2222</td>\n",
       "      <td>3.7778</td>\n",
       "      <td>Combo G</td>\n",
       "      <td>No</td>\n",
       "    </tr>\n",
       "  </tbody>\n",
       "</table>\n",
       "<p>2 rows × 26 columns</p>\n",
       "</div>"
      ],
      "text/plain": [
       "           player_name       school  GP  Min_per  ORtg   usg   eFG  TS_per  \\\n",
       "27238  Isaiah Williams  Jackson St.  12     38.8  72.2  20.8  29.7   36.98   \n",
       "27239    Justin Thomas   Alcorn St.   9     30.8  62.0  16.3  24.0   29.51   \n",
       "\n",
       "       FT_per  twoP_per  ...      bpm       mp    oreb    dreb     ast  \\\n",
       "27238   0.537     0.302  ... -6.85845  23.5833  1.6667  3.5000  0.6667   \n",
       "27239   0.625     0.255  ... -8.20410  26.0000  0.1111  2.7778  2.5556   \n",
       "\n",
       "          stl     blk     pts     role  drafted  \n",
       "27238  0.9167  0.1667  5.8333   Wing G       No  \n",
       "27239  1.0000  0.2222  3.7778  Combo G       No  \n",
       "\n",
       "[2 rows x 26 columns]"
      ]
     },
     "execution_count": 34,
     "metadata": {},
     "output_type": "execute_result"
    }
   ],
   "source": [
    "# will drop the values that are missing a real value for height  \n",
    "\n",
    "df_freedups_filt[df_freedups_filt['ht']=='None']"
   ]
  },
  {
   "cell_type": "code",
   "execution_count": 35,
   "id": "c2f09162",
   "metadata": {},
   "outputs": [],
   "source": [
    "df_freedups_filt.drop(df_freedups_filt.loc[df_freedups_filt['ht']=='None'].index, inplace=True)"
   ]
  },
  {
   "cell_type": "code",
   "execution_count": 36,
   "id": "14cb41a9",
   "metadata": {},
   "outputs": [],
   "source": [
    "df_freedups_filt.drop(df_freedups_filt.loc[df_freedups_filt['ht']=='So'].index, inplace=True)"
   ]
  },
  {
   "cell_type": "code",
   "execution_count": 37,
   "id": "c23b93fd",
   "metadata": {},
   "outputs": [],
   "source": [
    "df_freedups_filt.drop(df_freedups_filt.loc[df_freedups_filt['ht']=='0'].index, inplace=True)"
   ]
  },
  {
   "cell_type": "code",
   "execution_count": 38,
   "id": "e892d4fc",
   "metadata": {},
   "outputs": [],
   "source": [
    "df_freedups_filt.drop(df_freedups_filt.loc[df_freedups_filt['ht']=='-'].index, inplace=True)"
   ]
  },
  {
   "cell_type": "code",
   "execution_count": 39,
   "id": "1a65316f",
   "metadata": {},
   "outputs": [],
   "source": [
    "df_freedups_filt.drop(df_freedups_filt.loc[df_freedups_filt['ht']==0].index, inplace=True)"
   ]
  },
  {
   "cell_type": "code",
   "execution_count": 40,
   "id": "a7eab0b4",
   "metadata": {},
   "outputs": [],
   "source": [
    "df_freedups_filt.drop(df_freedups_filt.loc[df_freedups_filt['ht']==\"6'4\"].index, inplace=True)"
   ]
  },
  {
   "cell_type": "markdown",
   "id": "5ce62238",
   "metadata": {},
   "source": [
    "Height column is currently a string, will turn the column into an integer equal to height in inches first and later to cm."
   ]
  },
  {
   "cell_type": "code",
   "execution_count": 41,
   "id": "25c07724",
   "metadata": {},
   "outputs": [],
   "source": [
    "#turning height columns to inches\n",
    "df_freedups_filt['ht'] = df_freedups_filt['ht'].str.replace('-', '').map(lambda x: (int(x[0]) * 12) + int(x[1:]))"
   ]
  },
  {
   "cell_type": "code",
   "execution_count": 42,
   "id": "34661dc5",
   "metadata": {},
   "outputs": [],
   "source": [
    "df_freedups_filt['ht'] = df_freedups_filt['ht'].astype(int)"
   ]
  },
  {
   "cell_type": "code",
   "execution_count": 43,
   "id": "a4cf06f0",
   "metadata": {},
   "outputs": [
    {
     "data": {
      "text/plain": [
       "dtype('int64')"
      ]
     },
     "execution_count": 43,
     "metadata": {},
     "output_type": "execute_result"
    }
   ],
   "source": [
    "df_freedups_filt['ht'].dtype"
   ]
  },
  {
   "cell_type": "code",
   "execution_count": 44,
   "id": "a514aee9",
   "metadata": {
    "scrolled": true
   },
   "outputs": [
    {
     "data": {
      "text/plain": [
       "79    2277\n",
       "76    2205\n",
       "77    2198\n",
       "80    2183\n",
       "78    2112\n",
       "75    2032\n",
       "74    1819\n",
       "81    1654\n",
       "73    1372\n",
       "72    1183\n",
       "82    1042\n",
       "71     564\n",
       "70     531\n",
       "83     495\n",
       "84     287\n",
       "69     228\n",
       "85      97\n",
       "68      85\n",
       "86      39\n",
       "67      35\n",
       "87      15\n",
       "66      10\n",
       "88       9\n",
       "48       5\n",
       "89       3\n",
       "65       2\n",
       "64       1\n",
       "90       1\n",
       "62       1\n",
       "Name: ht, dtype: int64"
      ]
     },
     "execution_count": 44,
     "metadata": {},
     "output_type": "execute_result"
    }
   ],
   "source": [
    "df_freedups_filt['ht'].value_counts()"
   ]
  },
  {
   "cell_type": "code",
   "execution_count": 45,
   "id": "cca7ba0f",
   "metadata": {},
   "outputs": [],
   "source": [
    "#turning height column to cm\n",
    "df_freedups_filt[\"ht\"] = 2.54 * df_freedups_filt[\"ht\"]"
   ]
  },
  {
   "cell_type": "code",
   "execution_count": 46,
   "id": "69d686a5",
   "metadata": {
    "scrolled": true
   },
   "outputs": [
    {
     "data": {
      "text/plain": [
       "200.66    2277\n",
       "193.04    2205\n",
       "195.58    2198\n",
       "203.20    2183\n",
       "198.12    2112\n",
       "190.50    2032\n",
       "187.96    1819\n",
       "205.74    1654\n",
       "185.42    1372\n",
       "182.88    1183\n",
       "208.28    1042\n",
       "180.34     564\n",
       "177.80     531\n",
       "210.82     495\n",
       "213.36     287\n",
       "175.26     228\n",
       "215.90      97\n",
       "172.72      85\n",
       "218.44      39\n",
       "170.18      35\n",
       "220.98      15\n",
       "167.64      10\n",
       "223.52       9\n",
       "121.92       5\n",
       "226.06       3\n",
       "165.10       2\n",
       "162.56       1\n",
       "228.60       1\n",
       "157.48       1\n",
       "Name: ht, dtype: int64"
      ]
     },
     "execution_count": 46,
     "metadata": {},
     "output_type": "execute_result"
    }
   ],
   "source": [
    "df_freedups_filt['ht'].value_counts()"
   ]
  },
  {
   "cell_type": "code",
   "execution_count": 47,
   "id": "cf5767f2",
   "metadata": {},
   "outputs": [],
   "source": [
    "df_freedups_filt['ht'] = df_freedups_filt['ht'].astype(int)"
   ]
  },
  {
   "cell_type": "code",
   "execution_count": 48,
   "id": "143daa8f",
   "metadata": {},
   "outputs": [
    {
     "data": {
      "text/plain": [
       "200    2277\n",
       "193    2205\n",
       "195    2198\n",
       "203    2183\n",
       "198    2112\n",
       "190    2032\n",
       "187    1819\n",
       "205    1654\n",
       "185    1372\n",
       "182    1183\n",
       "208    1042\n",
       "180     564\n",
       "177     531\n",
       "210     495\n",
       "213     287\n",
       "175     228\n",
       "215      97\n",
       "172      85\n",
       "218      39\n",
       "170      35\n",
       "220      15\n",
       "167      10\n",
       "223       9\n",
       "121       5\n",
       "226       3\n",
       "165       2\n",
       "162       1\n",
       "228       1\n",
       "157       1\n",
       "Name: ht, dtype: int64"
      ]
     },
     "execution_count": 48,
     "metadata": {},
     "output_type": "execute_result"
    }
   ],
   "source": [
    "df_freedups_filt['ht'].value_counts()"
   ]
  },
  {
   "cell_type": "code",
   "execution_count": 49,
   "id": "0f3812c5",
   "metadata": {
    "scrolled": true
   },
   "outputs": [
    {
     "name": "stdout",
     "output_type": "stream",
     "text": [
      "<class 'pandas.core.frame.DataFrame'>\n",
      "Int64Index: 22485 entries, 1 to 28330\n",
      "Data columns (total 26 columns):\n",
      " #   Column       Non-Null Count  Dtype  \n",
      "---  ------       --------------  -----  \n",
      " 0   player_name  22485 non-null  object \n",
      " 1   school       22485 non-null  object \n",
      " 2   GP           22485 non-null  int64  \n",
      " 3   Min_per      22485 non-null  float64\n",
      " 4   ORtg         22485 non-null  float64\n",
      " 5   usg          22485 non-null  float64\n",
      " 6   eFG          22485 non-null  float64\n",
      " 7   TS_per       22485 non-null  float64\n",
      " 8   FT_per       22485 non-null  float64\n",
      " 9   twoP_per     22485 non-null  float64\n",
      " 10  TP_per       22485 non-null  float64\n",
      " 11  yr           22485 non-null  object \n",
      " 12  ht           22485 non-null  int64  \n",
      " 13  ast/tov      22485 non-null  float64\n",
      " 14  pick         22485 non-null  float64\n",
      " 15  drtg         22485 non-null  float64\n",
      " 16  bpm          22485 non-null  float64\n",
      " 17  mp           22485 non-null  float64\n",
      " 18  oreb         22485 non-null  float64\n",
      " 19  dreb         22485 non-null  float64\n",
      " 20  ast          22485 non-null  float64\n",
      " 21  stl          22485 non-null  float64\n",
      " 22  blk          22485 non-null  float64\n",
      " 23  pts          22485 non-null  float64\n",
      " 24  role         22485 non-null  object \n",
      " 25  drafted      22485 non-null  object \n",
      "dtypes: float64(19), int64(2), object(5)\n",
      "memory usage: 4.6+ MB\n"
     ]
    }
   ],
   "source": [
    "df_freedups_filt.info()"
   ]
  },
  {
   "cell_type": "markdown",
   "id": "83530c6c",
   "metadata": {},
   "source": [
    "### Limit Min_per"
   ]
  },
  {
   "cell_type": "markdown",
   "id": "45d962fe",
   "metadata": {},
   "source": [
    "Some of our advanced statistical features seem to be altered and non realistic. In order to gain accuracy will drop players with less than 5.0 Min_per"
   ]
  },
  {
   "cell_type": "code",
   "execution_count": 50,
   "id": "32c3ad03",
   "metadata": {},
   "outputs": [
    {
     "data": {
      "image/png": "[encoded data removed]",
      "text/plain": [
       "<Figure size 720x576 with 1 Axes>"
      ]
     },
     "metadata": {
      "needs_background": "light"
     },
     "output_type": "display_data"
    }
   ],
   "source": [
    "# check for unrealistic outliers\n",
    "plt.figure(figsize=(10,8))\n",
    "sns.boxplot(data=df_freedups_filt);"
   ]
  },
  {
   "cell_type": "code",
   "execution_count": 51,
   "id": "d3fda867",
   "metadata": {},
   "outputs": [],
   "source": [
    "index_names = df_freedups_filt[ df_freedups_filt['Min_per'] < 5.0].index"
   ]
  },
  {
   "cell_type": "code",
   "execution_count": 52,
   "id": "a0fffc54",
   "metadata": {},
   "outputs": [],
   "source": [
    "df_freedups_filt.drop(index_names, inplace = True)"
   ]
  },
  {
   "cell_type": "code",
   "execution_count": 53,
   "id": "9860bf28",
   "metadata": {},
   "outputs": [
    {
     "data": {
      "image/png": "[encoded data removed]",
      "text/plain": [
       "<Figure size 720x576 with 1 Axes>"
      ]
     },
     "metadata": {
      "needs_background": "light"
     },
     "output_type": "display_data"
    }
   ],
   "source": [
    "plt.figure(figsize=(10,8))\n",
    "sns.boxplot(data=df_freedups_filt);"
   ]
  },
  {
   "cell_type": "markdown",
   "id": "017d090e",
   "metadata": {},
   "source": [
    "## df to csv for exploratory data analysis in tableau\n"
   ]
  },
  {
   "cell_type": "code",
   "execution_count": 54,
   "id": "a5e7a7ec",
   "metadata": {},
   "outputs": [
    {
     "name": "stdout",
     "output_type": "stream",
     "text": [
      "<class 'pandas.core.frame.DataFrame'>\n",
      "Int64Index: 19087 entries, 1 to 28325\n",
      "Data columns (total 26 columns):\n",
      " #   Column       Non-Null Count  Dtype  \n",
      "---  ------       --------------  -----  \n",
      " 0   player_name  19087 non-null  object \n",
      " 1   school       19087 non-null  object \n",
      " 2   GP           19087 non-null  int64  \n",
      " 3   Min_per      19087 non-null  float64\n",
      " 4   ORtg         19087 non-null  float64\n",
      " 5   usg          19087 non-null  float64\n",
      " 6   eFG          19087 non-null  float64\n",
      " 7   TS_per       19087 non-null  float64\n",
      " 8   FT_per       19087 non-null  float64\n",
      " 9   twoP_per     19087 non-null  float64\n",
      " 10  TP_per       19087 non-null  float64\n",
      " 11  yr           19087 non-null  object \n",
      " 12  ht           19087 non-null  int64  \n",
      " 13  ast/tov      19087 non-null  float64\n",
      " 14  pick         19087 non-null  float64\n",
      " 15  drtg         19087 non-null  float64\n",
      " 16  bpm          19087 non-null  float64\n",
      " 17  mp           19087 non-null  float64\n",
      " 18  oreb         19087 non-null  float64\n",
      " 19  dreb         19087 non-null  float64\n",
      " 20  ast          19087 non-null  float64\n",
      " 21  stl          19087 non-null  float64\n",
      " 22  blk          19087 non-null  float64\n",
      " 23  pts          19087 non-null  float64\n",
      " 24  role         19087 non-null  object \n",
      " 25  drafted      19087 non-null  object \n",
      "dtypes: float64(19), int64(2), object(5)\n",
      "memory usage: 3.9+ MB\n"
     ]
    }
   ],
   "source": [
    "df_freedups_filt.info()"
   ]
  },
  {
   "cell_type": "code",
   "execution_count": 55,
   "id": "74dbf7d7",
   "metadata": {},
   "outputs": [
    {
     "data": {
      "text/plain": [
       "Wing G        4529\n",
       "Combo G       3340\n",
       "C             2673\n",
       "PF/C          2608\n",
       "Scoring PG    2074\n",
       "Wing F        1924\n",
       "Stretch 4     1228\n",
       "Pure PG        711\n",
       "Name: role, dtype: int64"
      ]
     },
     "execution_count": 55,
     "metadata": {},
     "output_type": "execute_result"
    }
   ],
   "source": [
    "df_freedups_filt['role'].value_counts()"
   ]
  },
  {
   "cell_type": "code",
   "execution_count": 57,
   "id": "70b1503e",
   "metadata": {},
   "outputs": [],
   "source": [
    "df_freedups_filt.to_csv('college_data.csv')"
   ]
  },
  {
   "cell_type": "code",
   "execution_count": null,
   "id": "6608c86a",
   "metadata": {},
   "outputs": [],
   "source": []
  },
  {
   "cell_type": "code",
   "execution_count": null,
   "id": "51ea6852",
   "metadata": {},
   "outputs": [],
   "source": []
  }
 ],
 "metadata": {
  "kernelspec": {
   "display_name": "Python 3 (ipykernel)",
   "language": "python",
   "name": "python3"
  },
  "language_info": {
   "codemirror_mode": {
    "name": "ipython",
    "version": 3
   },
   "file_extension": ".py",
   "mimetype": "text/x-python",
   "name": "python",
   "nbconvert_exporter": "python",
   "pygments_lexer": "ipython3",
   "version": "3.8.12"
  },
  "toc": {
   "base_numbering": 1,
   "nav_menu": {},
   "number_sections": true,
   "sideBar": true,
   "skip_h1_title": false,
   "title_cell": "Table of Contents",
   "title_sidebar": "Contents",
   "toc_cell": false,
   "toc_position": {
    "height": "calc(100% - 180px)",
    "left": "10px",
    "top": "150px",
    "width": "232.727px"
   },
   "toc_section_display": true,
   "toc_window_display": true
  }
 },
 "nbformat": 4,
 "nbformat_minor": 5
}
