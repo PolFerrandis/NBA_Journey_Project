{
 "cells": [
  {
   "cell_type": "markdown",
   "id": "bbd64b8d",
   "metadata": {},
   "source": [
    "# NBA All star rosters collection "
   ]
  },
  {
   "cell_type": "markdown",
   "id": "1f9f9b2b",
   "metadata": {},
   "source": [
    "## Data Scrape - All-Star Rosters"
   ]
  },
  {
   "cell_type": "markdown",
   "id": "70a570fd",
   "metadata": {},
   "source": [
    "### Import libraries"
   ]
  },
  {
   "cell_type": "code",
   "execution_count": 1,
   "id": "d72d73a3",
   "metadata": {},
   "outputs": [],
   "source": [
    "\n",
    "import pandas as pd\n",
    "import requests\n",
    "from bs4 import BeautifulSoup\n",
    "import time"
   ]
  },
  {
   "cell_type": "markdown",
   "id": "fe88536b",
   "metadata": {},
   "source": [
    "### testing scrape"
   ]
  },
  {
   "cell_type": "code",
   "execution_count": 2,
   "id": "890da942",
   "metadata": {},
   "outputs": [],
   "source": [
    "#Testing scrape on the 2021 NBA All-Star game\n",
    "url = 'https://www.basketball-reference.com/allstar/NBA_2021.html'\n",
    "rec = requests.get(url)"
   ]
  },
  {
   "cell_type": "code",
   "execution_count": 3,
   "id": "9a6c9686",
   "metadata": {},
   "outputs": [
    {
     "data": {
      "text/plain": [
       "200"
      ]
     },
     "execution_count": 3,
     "metadata": {},
     "output_type": "execute_result"
    }
   ],
   "source": [
    "rec.status_code"
   ]
  },
  {
   "cell_type": "code",
   "execution_count": 4,
   "id": "883d4f9c",
   "metadata": {},
   "outputs": [],
   "source": [
    "soup = BeautifulSoup(rec.content, 'lxml')"
   ]
  },
  {
   "cell_type": "code",
   "execution_count": 5,
   "id": "eea2167c",
   "metadata": {},
   "outputs": [],
   "source": [
    "#table for first team\n",
    "table = soup.find_all('table')[1]"
   ]
  },
  {
   "cell_type": "code",
   "execution_count": 6,
   "id": "1b6d1742",
   "metadata": {},
   "outputs": [
    {
     "data": {
      "text/plain": [
       "'Luka Dončić'"
      ]
     },
     "execution_count": 6,
     "metadata": {},
     "output_type": "execute_result"
    }
   ],
   "source": [
    "table.find('tbody').find_all('tr')[0].find('th').text"
   ]
  },
  {
   "cell_type": "code",
   "execution_count": 7,
   "id": "da8dfc59",
   "metadata": {},
   "outputs": [
    {
     "data": {
      "text/plain": [
       "['Luka Dončić',\n",
       " 'Stephen Curry',\n",
       " 'Giannis Antetokounmpo',\n",
       " 'Nikola Jokić',\n",
       " 'LeBron James',\n",
       " '',\n",
       " 'Chris Paul',\n",
       " 'Jaylen Brown',\n",
       " 'Paul George',\n",
       " 'Damian Lillard',\n",
       " 'Domantas Sabonis',\n",
       " 'Rudy Gobert']"
      ]
     },
     "execution_count": 7,
     "metadata": {},
     "output_type": "execute_result"
    }
   ],
   "source": [
    "#looping through first table on site to get players from the first team\n",
    "[tr.find('th').text for tr in table.find('tbody').find_all('tr') if tr.find('th').text != ('Reserves')]"
   ]
  },
  {
   "cell_type": "code",
   "execution_count": 8,
   "id": "30e52808",
   "metadata": {},
   "outputs": [],
   "source": [
    "#table for second team\n",
    "table_2 = soup.find_all('table')[2]"
   ]
  },
  {
   "cell_type": "code",
   "execution_count": 9,
   "id": "0225649b",
   "metadata": {},
   "outputs": [
    {
     "data": {
      "text/plain": [
       "'Kyrie Irving'"
      ]
     },
     "execution_count": 9,
     "metadata": {},
     "output_type": "execute_result"
    }
   ],
   "source": [
    "table_2.find('tbody').find_all('tr')[0].find('th').text"
   ]
  },
  {
   "cell_type": "code",
   "execution_count": 10,
   "id": "6cf22f82",
   "metadata": {},
   "outputs": [
    {
     "data": {
      "text/plain": [
       "['Kyrie Irving',\n",
       " 'Bradley Beal',\n",
       " 'Kawhi Leonard',\n",
       " 'Jayson Tatum',\n",
       " 'Zion Williamson',\n",
       " '',\n",
       " 'James Harden',\n",
       " 'Donovan Mitchell',\n",
       " 'Zach LaVine',\n",
       " 'Nikola Vučević',\n",
       " 'Julius Randle',\n",
       " 'Mike Conley']"
      ]
     },
     "execution_count": 10,
     "metadata": {},
     "output_type": "execute_result"
    }
   ],
   "source": [
    "#looping through to get players from the second team\n",
    "[tr.find('th').text for tr in table_2.find('tbody').find_all('tr') if tr.find('th').text != 'Reserves']"
   ]
  },
  {
   "cell_type": "markdown",
   "id": "83bc6370",
   "metadata": {},
   "source": [
    "### Complete scrape"
   ]
  },
  {
   "cell_type": "code",
   "execution_count": 12,
   "id": "4fe075f8",
   "metadata": {},
   "outputs": [
    {
     "name": "stdout",
     "output_type": "stream",
     "text": [
      "Scraping the 2006 All-Star game\n",
      "Scraping the 2007 All-Star game\n",
      "Scraping the 2008 All-Star game\n",
      "Scraping the 2009 All-Star game\n",
      "Scraping the 2010 All-Star game\n",
      "Scraping the 2011 All-Star game\n",
      "Scraping the 2012 All-Star game\n",
      "Scraping the 2013 All-Star game\n",
      "Scraping the 2014 All-Star game\n",
      "Scraping the 2015 All-Star game\n",
      "Scraping the 2016 All-Star game\n",
      "Scraping the 2017 All-Star game\n",
      "Scraping the 2018 All-Star game\n",
      "Scraping the 2019 All-Star game\n",
      "Scraping the 2020 All-Star game\n",
      "Scraping the 2021 All-Star game\n"
     ]
    }
   ],
   "source": [
    "#getting All-Star rosters from 2006-2021\n",
    "player_list = []\n",
    "\n",
    "for i in range(2006, 2022):\n",
    "    print(f'Scraping the {i} All-Star game')\n",
    "    url = f'https://www.basketball-reference.com/allstar/NBA_{i}.html'\n",
    "    rec = requests.get(url)\n",
    "    if rec.status_code == 200:\n",
    "        soup = BeautifulSoup(rec.content, 'lxml')\n",
    "        \n",
    "        #getting players for team 1\n",
    "        table_1 = soup.find_all('table')[1]\n",
    "        team_1 = [tr.find('th').text for tr in table_1.find('tbody').find_all('tr') if tr.find('th').text != ('Reserves')]\n",
    "        player_list.extend(team_1)\n",
    "        \n",
    "        #getting players for team 2\n",
    "        table_2 = soup.find_all('table')[2]\n",
    "        team_2 = [tr.find('th').text for tr in table_2.find('tbody').find_all('tr') if tr.find('th').text != ('Reserves')]\n",
    "        player_list.extend(team_2)\n",
    "        \n",
    "    else: \n",
    "        print('website error')\n",
    "    \n",
    "    time.sleep(1)\n",
    "        "
   ]
  },
  {
   "cell_type": "code",
   "execution_count": 13,
   "id": "1873e3bc",
   "metadata": {},
   "outputs": [],
   "source": [
    "#creating dataframe\n",
    "all_star_df = pd.DataFrame(player_list, columns = ['Name'])"
   ]
  },
  {
   "cell_type": "code",
   "execution_count": 14,
   "id": "a16d3600",
   "metadata": {},
   "outputs": [
    {
     "data": {
      "text/html": [
       "<div>\n",
       "<style scoped>\n",
       "    .dataframe tbody tr th:only-of-type {\n",
       "        vertical-align: middle;\n",
       "    }\n",
       "\n",
       "    .dataframe tbody tr th {\n",
       "        vertical-align: top;\n",
       "    }\n",
       "\n",
       "    .dataframe thead th {\n",
       "        text-align: right;\n",
       "    }\n",
       "</style>\n",
       "<table border=\"1\" class=\"dataframe\">\n",
       "  <thead>\n",
       "    <tr style=\"text-align: right;\">\n",
       "      <th></th>\n",
       "      <th>Name</th>\n",
       "    </tr>\n",
       "  </thead>\n",
       "  <tbody>\n",
       "    <tr>\n",
       "      <th>0</th>\n",
       "      <td>Dwyane Wade</td>\n",
       "    </tr>\n",
       "    <tr>\n",
       "      <th>1</th>\n",
       "      <td>LeBron James</td>\n",
       "    </tr>\n",
       "    <tr>\n",
       "      <th>2</th>\n",
       "      <td>Allen Iverson</td>\n",
       "    </tr>\n",
       "    <tr>\n",
       "      <th>3</th>\n",
       "      <td>Shaquille O'Neal</td>\n",
       "    </tr>\n",
       "    <tr>\n",
       "      <th>4</th>\n",
       "      <td>Vince Carter</td>\n",
       "    </tr>\n",
       "  </tbody>\n",
       "</table>\n",
       "</div>"
      ],
      "text/plain": [
       "               Name\n",
       "0       Dwyane Wade\n",
       "1      LeBron James\n",
       "2     Allen Iverson\n",
       "3  Shaquille O'Neal\n",
       "4      Vince Carter"
      ]
     },
     "execution_count": 14,
     "metadata": {},
     "output_type": "execute_result"
    }
   ],
   "source": [
    "all_star_df.head()"
   ]
  },
  {
   "cell_type": "code",
   "execution_count": 17,
   "id": "5cdb7fcc",
   "metadata": {},
   "outputs": [
    {
     "data": {
      "text/plain": [
       "(415, 1)"
      ]
     },
     "execution_count": 17,
     "metadata": {},
     "output_type": "execute_result"
    }
   ],
   "source": [
    "all_star_df.shape"
   ]
  },
  {
   "cell_type": "code",
   "execution_count": 18,
   "id": "92887f0b",
   "metadata": {},
   "outputs": [],
   "source": [
    "#Dropping duplicates\n",
    "#Many players have been selected for multiple games\n",
    "all_star_df.drop_duplicates(inplace = True)"
   ]
  },
  {
   "cell_type": "code",
   "execution_count": 19,
   "id": "6747c717",
   "metadata": {},
   "outputs": [
    {
     "data": {
      "text/html": [
       "<div>\n",
       "<style scoped>\n",
       "    .dataframe tbody tr th:only-of-type {\n",
       "        vertical-align: middle;\n",
       "    }\n",
       "\n",
       "    .dataframe tbody tr th {\n",
       "        vertical-align: top;\n",
       "    }\n",
       "\n",
       "    .dataframe thead th {\n",
       "        text-align: right;\n",
       "    }\n",
       "</style>\n",
       "<table border=\"1\" class=\"dataframe\">\n",
       "  <thead>\n",
       "    <tr style=\"text-align: right;\">\n",
       "      <th></th>\n",
       "      <th>Name</th>\n",
       "    </tr>\n",
       "  </thead>\n",
       "  <tbody>\n",
       "    <tr>\n",
       "      <th>5</th>\n",
       "      <td></td>\n",
       "    </tr>\n",
       "    <tr>\n",
       "      <th>114</th>\n",
       "      <td>Al Horford</td>\n",
       "    </tr>\n",
       "    <tr>\n",
       "      <th>2</th>\n",
       "      <td>Allen Iverson</td>\n",
       "    </tr>\n",
       "    <tr>\n",
       "      <th>36</th>\n",
       "      <td>Amar'e Stoudemire</td>\n",
       "    </tr>\n",
       "    <tr>\n",
       "      <th>283</th>\n",
       "      <td>Andre Drummond</td>\n",
       "    </tr>\n",
       "  </tbody>\n",
       "</table>\n",
       "</div>"
      ],
      "text/plain": [
       "                  Name\n",
       "5                     \n",
       "114         Al Horford\n",
       "2        Allen Iverson\n",
       "36   Amar'e Stoudemire\n",
       "283     Andre Drummond"
      ]
     },
     "execution_count": 19,
     "metadata": {},
     "output_type": "execute_result"
    }
   ],
   "source": [
    "#need to remove empty name\n",
    "all_star_df.sort_values(by = 'Name').head()"
   ]
  },
  {
   "cell_type": "code",
   "execution_count": 20,
   "id": "d1820546",
   "metadata": {},
   "outputs": [],
   "source": [
    "#dropping missing value\n",
    "all_star_df.drop(5, inplace = True)"
   ]
  },
  {
   "cell_type": "code",
   "execution_count": 21,
   "id": "5f4b713a",
   "metadata": {},
   "outputs": [],
   "source": [
    "#resetting index\n",
    "all_star_df.reset_index(drop = True, inplace = True)"
   ]
  },
  {
   "cell_type": "code",
   "execution_count": 23,
   "id": "73efd57e",
   "metadata": {},
   "outputs": [
    {
     "data": {
      "text/html": [
       "<div>\n",
       "<style scoped>\n",
       "    .dataframe tbody tr th:only-of-type {\n",
       "        vertical-align: middle;\n",
       "    }\n",
       "\n",
       "    .dataframe tbody tr th {\n",
       "        vertical-align: top;\n",
       "    }\n",
       "\n",
       "    .dataframe thead th {\n",
       "        text-align: right;\n",
       "    }\n",
       "</style>\n",
       "<table border=\"1\" class=\"dataframe\">\n",
       "  <thead>\n",
       "    <tr style=\"text-align: right;\">\n",
       "      <th></th>\n",
       "      <th>Name</th>\n",
       "    </tr>\n",
       "  </thead>\n",
       "  <tbody>\n",
       "    <tr>\n",
       "      <th>0</th>\n",
       "      <td>Dwyane Wade</td>\n",
       "    </tr>\n",
       "    <tr>\n",
       "      <th>1</th>\n",
       "      <td>LeBron James</td>\n",
       "    </tr>\n",
       "    <tr>\n",
       "      <th>2</th>\n",
       "      <td>Allen Iverson</td>\n",
       "    </tr>\n",
       "    <tr>\n",
       "      <th>3</th>\n",
       "      <td>Shaquille O'Neal</td>\n",
       "    </tr>\n",
       "    <tr>\n",
       "      <th>4</th>\n",
       "      <td>Vince Carter</td>\n",
       "    </tr>\n",
       "    <tr>\n",
       "      <th>...</th>\n",
       "      <td>...</td>\n",
       "    </tr>\n",
       "    <tr>\n",
       "      <th>108</th>\n",
       "      <td>Jaylen Brown</td>\n",
       "    </tr>\n",
       "    <tr>\n",
       "      <th>109</th>\n",
       "      <td>Zion Williamson</td>\n",
       "    </tr>\n",
       "    <tr>\n",
       "      <th>110</th>\n",
       "      <td>Zach LaVine</td>\n",
       "    </tr>\n",
       "    <tr>\n",
       "      <th>111</th>\n",
       "      <td>Julius Randle</td>\n",
       "    </tr>\n",
       "    <tr>\n",
       "      <th>112</th>\n",
       "      <td>Mike Conley</td>\n",
       "    </tr>\n",
       "  </tbody>\n",
       "</table>\n",
       "<p>113 rows × 1 columns</p>\n",
       "</div>"
      ],
      "text/plain": [
       "                 Name\n",
       "0         Dwyane Wade\n",
       "1        LeBron James\n",
       "2       Allen Iverson\n",
       "3    Shaquille O'Neal\n",
       "4        Vince Carter\n",
       "..                ...\n",
       "108      Jaylen Brown\n",
       "109   Zion Williamson\n",
       "110       Zach LaVine\n",
       "111     Julius Randle\n",
       "112       Mike Conley\n",
       "\n",
       "[113 rows x 1 columns]"
      ]
     },
     "execution_count": 23,
     "metadata": {},
     "output_type": "execute_result"
    }
   ],
   "source": [
    "all_star_df"
   ]
  },
  {
   "cell_type": "code",
   "execution_count": 24,
   "id": "681b6b68",
   "metadata": {},
   "outputs": [],
   "source": [
    "#Removing special characters from name\n",
    "all_star_df.loc[all_star_df['Name'] == 'Nikola Vučević' , 'Name'] = 'Nikola Vucevic'"
   ]
  },
  {
   "cell_type": "markdown",
   "id": "e92e17d8",
   "metadata": {},
   "source": [
    "No need to clean other players such as Luka Dončić, Nikola Jokić or Goran Dragić as they will not appear in teh college file"
   ]
  },
  {
   "cell_type": "code",
   "execution_count": 25,
   "id": "c838fa76",
   "metadata": {},
   "outputs": [],
   "source": [
    "#saving to csv file\n",
    "all_star_df.to_csv('all_star_rosters.csv')"
   ]
  },
  {
   "cell_type": "code",
   "execution_count": null,
   "id": "72cdb150",
   "metadata": {},
   "outputs": [],
   "source": []
  }
 ],
 "metadata": {
  "kernelspec": {
   "display_name": "Python 3 (ipykernel)",
   "language": "python",
   "name": "python3"
  },
  "language_info": {
   "codemirror_mode": {
    "name": "ipython",
    "version": 3
   },
   "file_extension": ".py",
   "mimetype": "text/x-python",
   "name": "python",
   "nbconvert_exporter": "python",
   "pygments_lexer": "ipython3",
   "version": "3.8.12"
  },
  "toc": {
   "base_numbering": 1,
   "nav_menu": {},
   "number_sections": true,
   "sideBar": true,
   "skip_h1_title": false,
   "title_cell": "Table of Contents",
   "title_sidebar": "Contents",
   "toc_cell": false,
   "toc_position": {},
   "toc_section_display": true,
   "toc_window_display": false
  }
 },
 "nbformat": 4,
 "nbformat_minor": 5
}
